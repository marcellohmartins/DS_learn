{
  "nbformat": 4,
  "nbformat_minor": 0,
  "metadata": {
    "kernelspec": {
      "display_name": "Python 3",
      "language": "python",
      "name": "python3"
    },
    "language_info": {
      "codemirror_mode": {
        "name": "ipython",
        "version": 3
      },
      "file_extension": ".py",
      "mimetype": "text/x-python",
      "name": "python",
      "nbconvert_exporter": "python",
      "pygments_lexer": "ipython3",
      "version": "3.7.4"
    },
    "colab": {
      "name": "AtividadeSpark.ipynb",
      "provenance": []
    }
  },
  "cells": [
    {
      "cell_type": "markdown",
      "metadata": {
        "id": "MdvOMqZpCL9d"
      },
      "source": [
        "# Atividade Spark \n",
        "# Feito por: Alexandre Follador Guedes e Marcello Henrique Martins\n",
        "\n",
        "Considerando o dataset detalhado a seguir, extraia o conjunto de informações solicitadas.\n",
        "\n",
        "### Dataset dados de COVID no Brasil\n",
        "\n",
        "- Arquivo disponível em /home/dados/covid/covid.csv\n",
        "- Dados relativos a pacientes que realizaram exames de Covid19 no Brasil\n",
        "- ~1.6GB\n",
        "- 4.4M de instâncias\n",
        "\n",
        "\n",
        "|  # | Nome do campo        \t| Descrição                                     \t|\n",
        "|----|----------------------\t|-----------------------------------------------\t|\n",
        "|  0 | id                   \t| identificador                                 \t|\n",
        "|  1 | dataNotificacao      \t| Data da notificação                           \t|\n",
        "|  2 | dataInicioSintomas   \t| Data do inicio dos sintomas                   \t|\n",
        "|  3 | dataNascimento       \t| Data de nascimento                            \t|\n",
        "|  4 | sintomas             \t| Sintomas do paciente                          \t|\n",
        "|  5 | profissionalSaude    \t| Relacionado a profissional de saúde           \t|\n",
        "|  6 | cbo                  \t| Ocupação                                      \t|\n",
        "|  7 | condicoes            \t| Condições do paciente                         \t|\n",
        "|  8 | estadoTeste          \t| Estado do teste                               \t|\n",
        "|  9 | dataTeste            \t| Data do teste                                 \t|\n",
        "| 10 | tipoTeste            \t| Tipo de teste realizado                       \t|\n",
        "| 11 | resultadoTeste       \t| Resultado do Teste                            \t|\n",
        "| 12 | paisOrigem           \t| Pais de Origem do paciente                    \t|\n",
        "| 13 | sexo                 \t| Sexo do paciente                              \t|\n",
        "| 14 | bairro               \t| Bairro do paciente                            \t|\n",
        "| 15 | estado               \t| Estado do paciente                            \t|\n",
        "| 16 | estadoIBGE              \t| Estado do paciente IBGE                          \t|\n",
        "| 17 | municipio            \t| Municipio do paciente                         \t|\n",
        "| 18 | municipioIBGE          \t| Municipio do paciente                         \t|\n",
        "| 19 | cep            \t        | CEP                                            \t|\n",
        "| 20 | origem               \t| Origem do paciente                            \t|\n",
        "| 21 | cnes                 \t| Código da unidade de saúde                    \t|\n",
        "| 22 | estadoNotificacao    \t| Estado da notificação                         \t|\n",
        "| 23 | estadoNotificacaoIBGE    | Estado da notificação IBGE                      \t|\n",
        "| 24 | municipioNotificacao \t| Município da notificação                      \t|\n",
        "| 25 | municipioNotificacaoIBGE | Município da notificação IBGE                    \t|\n",
        "| 26 | numeroNotificacao    \t| Número da notificação                         \t|\n",
        "| 27 | excluido             \t| ID de exclusão                                \t|\n",
        "| 28 | validado             \t| Local validação                               \t|\n",
        "| 29 | idade                \t| Idade do paciente                             \t|\n",
        "| 30 | dataEncerramento     \t| Data do encerramento da avaliação do paciente \t|\n",
        "| 31 | evolucaoCaso         \t| Evolução do caso do paciente                  \t|\n",
        "| 32 | classificacaoFinal   \t| Avaliação final do caso                       \t|\n",
        "\n",
        "Informações a serem extraídas:\n",
        "\n",
        "1. Quantidade de pacientes positivos para corona virus (resultadoTeste)\n",
        "2. Quantidade de pacientes do sexo feminino positivos para corona virus (resultadoTeste)\n",
        "3. Quantidade de pacientes de acordo com o sexo e o resultado do teste (resultadoTeste)\n",
        "4. Sintomas mais comuns para casos positivos para corona virus\n",
        "5. Sintomas mais comuns para casos não positivos para corona virus\n",
        "6. Quantidade de casos positivos no Paraná\n",
        "7. Municipio do Paraná com a maior quantidade de óbitos (evolucaoCaso)\n",
        "8. Quantidade de municipios no Paraná com casos positivos\n",
        "9. Quantidade de municipios no Paraná sem casos positivos\n",
        "10. Estado com a maior taxa de falecimento de mulheres\n",
        "11. Menor idade de mulher positiva para covid\n",
        "12. Maior idade de mulher positiva para covid\n",
        "13. Quantidade de casos positivos, em granularidade diária, ao longo do tempo \n",
        "14. Quantidade de casos positivos, em granularidade semanal, ao longo do tempo \n",
        "15. Quantidade de pacientes que faleceram (evolucaoCaso) separados pela idade\n",
        "16. Taxa de óbito (evolucaoCaso) por idade\n",
        "17. Idade média das mulheres positivas para covid\n",
        "18. Município do Paraná com a maior quantidade de mulheres positivos para covid\n",
        "19. Dia da semana com a maior quantidade de testes realizados\n",
        "20. Dia da semana com maior quantidade de pacientes positivos para corona virus\n",
        "21. Municipio, com mais de 500 testes, com a maior taxa de exames que não foram positivos para COVID (casos que foram testados porém não tiveram o resultadoTeste como Positivo)\n",
        "\n",
        "**Dicas:**\n",
        "- *Crie uma célula (Insert -> Insert Cell Below) para cada informação solicitada*\n",
        "- *A análise deve ser feita sobre os dados do HDFS*\n",
        "- *Inicialize o seu cluster executando o script em: Desktop/ambientes/spark/inicializar.sh*\n",
        "- *Acesse o seu cluster executando o script em: Desktop/ambientes/spark/abrir_navegador.sh*"
      ]
    },
    {
      "cell_type": "code",
      "metadata": {
        "id": "kSn3pzSVCL9g"
      },
      "source": [
        "# abre sessão no spark\n",
        "import os\n",
        "os.environ['PYSPARK_PYTHON'] = '/usr/bin/python3'\n",
        "\n",
        "import pyspark\n",
        "conf = pyspark.SparkConf()\n",
        "\n",
        "conf.setMaster('spark://spark-master:7077')\n",
        "\n",
        "sc = pyspark.SparkContext.getOrCreate()\n",
        "sc.stop()\n",
        "sc = pyspark.SparkContext(conf = conf)"
      ],
      "execution_count": null,
      "outputs": []
    },
    {
      "cell_type": "code",
      "metadata": {
        "id": "pEfJBT6FCL9h"
      },
      "source": [
        "#carrega arquivo do HDFS em um RDD\n",
        "arquivoRDD = sc.textFile('hdfs://namenode:9000/covid.csv')"
      ],
      "execution_count": null,
      "outputs": []
    },
    {
      "cell_type": "code",
      "metadata": {
        "id": "2bCxlbacCL9h",
        "outputId": "c6f3c512-9656-485e-c63b-089ca65eae92"
      },
      "source": [
        "arquivoRDD.map(lambda linha: linha.split(';')[1])\\\n",
        "    .map(lambda data: data[0:4])\\\n",
        "    .filter(lambda ano: ano == '2020')\\\n",
        "    .map(lambda ano: int(ano))\\\n",
        "    .count()"
      ],
      "execution_count": null,
      "outputs": [
        {
          "output_type": "execute_result",
          "data": {
            "text/plain": [
              "4423752"
            ]
          },
          "metadata": {
            "tags": []
          },
          "execution_count": 3
        }
      ]
    },
    {
      "cell_type": "code",
      "metadata": {
        "id": "uT69IVFbCL9i",
        "outputId": "d0a14fad-e0ff-4773-99e3-b431df8b87c4"
      },
      "source": [
        "arquivoRDD.count()"
      ],
      "execution_count": null,
      "outputs": [
        {
          "output_type": "execute_result",
          "data": {
            "text/plain": [
              "4424605"
            ]
          },
          "metadata": {
            "tags": []
          },
          "execution_count": 4
        }
      ]
    },
    {
      "cell_type": "code",
      "metadata": {
        "id": "UoKo1J9VCL9j",
        "outputId": "4ba57552-e5da-4c88-d5ed-3ed0d355ba72"
      },
      "source": [
        "arquivoRDD.take(5)"
      ],
      "execution_count": null,
      "outputs": [
        {
          "output_type": "execute_result",
          "data": {
            "text/plain": [
              "['id;dataNotificacao;dataInicioSintomas;dataNascimento;sintomas;profissionalSaude;cbo;condicoes;estadoTeste;dataTeste;tipoTeste;resultadoTeste;paisOrigem;sexo;bairro;estado;estadoIBGE;municipio;municipioIBGE;cep;origem;cnes;estadoNotificacao;estadoNotificacaoIBGE;municipioNotificacao;municipioNotificacaoIBGE;numeroNotificacao;excluido;validado;idade;dataEncerramento;evolucaoCaso;classificacaoFinal',\n",
              " 'q2ggiMBd6V;2020-03-20T05:00:00.000Z;2020-03-13T05:00:00.000Z;1999-04-26T05:00:00.000Z;Dor de Garganta;Não;null;null;Concluído;2020-03-20T05:00:00.000Z;RT-PCR;Negativo;undefined;Masculino;VARZEA;MINAS GERAIS;31;Brumadinho;3109006;69980;undefined;undefined;ACRE;12;Rio Branco;1200401;122000006949;undefined;undefined;21;\"\";\"\";Descartado',\n",
              " 'rBR15eblo5;2020-04-26T16:18:17.903Z;2020-04-20T05:00:00.000Z;1949-10-02T05:00:00.000Z;Dispneia, Outros, Dor de Garganta;Não;null;Doenças cardíacas crônicas;Coletado;2020-04-26T05:00:00.000Z;null;null;undefined;Masculino;PINHAES;PARANÁ;41;Curitiba;4106902;\"\";undefined;2001578;ACRE;12;Rio Branco;1200401;122000440106;undefined;undefined;70;\"\";\"\";\"\"',\n",
              " 'LIHk9fcRnc;2020-05-06T21:45:48.250Z;2020-04-30T03:00:00.000Z;1964-05-22T03:00:00.000Z;Outros;Não;null;null;Concluído;2020-04-30T03:00:00.000Z;RT-PCR;Positivo;undefined;Masculino;null;RIO DE JANEIRO;33;Rio de Janeiro;3304557;\"\";undefined;undefined;ACRE;12;Capixaba;1200179;122000773736;undefined;undefined;56;\"\";\"\";\"\"',\n",
              " '57PiIRHMJB;2020-05-08T03:00:00.000Z;2020-04-21T03:00:00.000Z;1981-12-02T03:00:00.000Z;Dispneia, Febre, Tosse;Não;null;null;Coletado;2020-05-07T03:00:00.000Z;null;null;undefined;Masculino;jd horatório;SÃO PAULO;35;Mauá;3529401;09380;undefined;undefined;ACRE;12;Brasiléia;1200104;122000838820;undefined;undefined;38;\"\";\"\";\"\"']"
            ]
          },
          "metadata": {
            "tags": []
          },
          "execution_count": 5
        }
      ]
    },
    {
      "cell_type": "code",
      "metadata": {
        "id": "tSXN1KAlCL9j",
        "outputId": "1a0cdeb3-23fa-4440-ab6e-24b9709012c6"
      },
      "source": [
        "# exames por estado\n",
        "arquivoRDD.map(lambda linha: linha.split(';')[15])\\\n",
        "    .map(lambda estado: [estado, 1])\\\n",
        "    .reduceByKey(lambda valor1, valor2: valor1 + valor2)\\\n",
        "    .sortBy(lambda entrada: entrada[1], ascending=False)\\\n",
        "    .filter(lambda entrada: entrada[1] > 1000)\\\n",
        "    .take(10)"
      ],
      "execution_count": null,
      "outputs": [
        {
          "output_type": "execute_result",
          "data": {
            "text/plain": [
              "[('SÃO PAULO', 2083442),\n",
              " ('MINAS GERAIS', 585110),\n",
              " ('BAHIA', 559746),\n",
              " ('RIO GRANDE DO SUL', 440413),\n",
              " ('RIO DE JANEIRO', 418934),\n",
              " ('SANTA CATARINA', 294990),\n",
              " ('PARANÁ', 41969)]"
            ]
          },
          "metadata": {
            "tags": []
          },
          "execution_count": 6
        }
      ]
    },
    {
      "cell_type": "code",
      "metadata": {
        "id": "9gu4D5H1CL9k"
      },
      "source": [
        ""
      ],
      "execution_count": null,
      "outputs": []
    },
    {
      "cell_type": "code",
      "metadata": {
        "id": "X8qGipEHCL9k"
      },
      "source": [
        ""
      ],
      "execution_count": null,
      "outputs": []
    },
    {
      "cell_type": "code",
      "metadata": {
        "id": "Kusf59MVCL9l"
      },
      "source": [
        ""
      ],
      "execution_count": null,
      "outputs": []
    },
    {
      "cell_type": "code",
      "metadata": {
        "id": "fGtlWljkCL9m",
        "outputId": "5bac2ad0-fb60-43bf-9e4a-5551b5b86c76"
      },
      "source": [
        "#informacao 1  - Quantidade de pacientes positivos para corona virus (resultadoTeste)\n",
        "\n",
        "arquivoRDD.map(lambda resultado: resultado.split(';')[11])\\\n",
        "    .filter(lambda resultado: resultado == 'Positivo')\\\n",
        "    .count()"
      ],
      "execution_count": null,
      "outputs": [
        {
          "output_type": "execute_result",
          "data": {
            "text/plain": [
              "1230210"
            ]
          },
          "metadata": {
            "tags": []
          },
          "execution_count": 7
        }
      ]
    },
    {
      "cell_type": "code",
      "metadata": {
        "id": "259rnFX7CL9o",
        "outputId": "22666cbd-03b7-4848-aac3-c22770e4284a"
      },
      "source": [
        "#informacao 2 - Quantidade de pacientes do sexo feminino positivos para corona virus (resultadoTeste)\n",
        "\n",
        "arquivoRDD.map(lambda linha: linha.split(';')[11:14])\\\n",
        "    .map(lambda retorna: [retorna[0], retorna[2]])\\\n",
        "    .filter(lambda sexo: sexo[1] == 'Feminino')\\\n",
        "    .filter(lambda sexo: sexo[0] == 'Positivo')\\\n",
        "    .count()\n",
        "    #.take(5)"
      ],
      "execution_count": null,
      "outputs": [
        {
          "output_type": "execute_result",
          "data": {
            "text/plain": [
              "632899"
            ]
          },
          "metadata": {
            "tags": []
          },
          "execution_count": 8
        }
      ]
    },
    {
      "cell_type": "code",
      "metadata": {
        "id": "UfDoEbjKCL9o",
        "outputId": "7ecc323c-2b59-4ae8-aab2-e635a5850105"
      },
      "source": [
        "#informacao 3 - Quantidade de pacientes de acordo com o sexo e o resultado do teste (resultadoTeste)\n",
        "\n",
        "arquivoRDD.map(lambda linha: linha.split(';')[11:14])\\\n",
        "    .map(lambda retorna: [retorna[0], retorna[2]])\\\n",
        "    .map(lambda retorna: [retorna[1] + ' ' + retorna[0],1])\\\n",
        "    .reduceByKey(lambda valor1, valor2: valor1 + valor2)\\\n",
        "    .sortBy(lambda entrada: entrada[1], ascending=False)\\\n",
        "    .filter(lambda entrada: entrada[1] > 1000)\\\n",
        "    .collect()"
      ],
      "execution_count": null,
      "outputs": [
        {
          "output_type": "execute_result",
          "data": {
            "text/plain": [
              "[('Feminino Negativo', 1318173),\n",
              " ('Masculino Negativo', 1141559),\n",
              " ('Feminino Positivo', 632899),\n",
              " ('Masculino Positivo', 578177),\n",
              " ('Feminino null', 371661),\n",
              " ('Masculino null', 274303),\n",
              " ('Indefinido Negativo', 88174),\n",
              " ('Indefinido Positivo', 19117)]"
            ]
          },
          "metadata": {
            "tags": []
          },
          "execution_count": 9
        }
      ]
    },
    {
      "cell_type": "code",
      "metadata": {
        "id": "HaURhdzpCL9p",
        "outputId": "45e80e78-2edf-440d-9933-27ab056e8868"
      },
      "source": [
        "#informacao 4 - Sintomas mais comuns para casos positivos para corona virus\n",
        "\n",
        "arquivoRDD.map(lambda linha: [linha.split(';')[4],linha.split(';')[11]])\\\n",
        "    .filter(lambda x: x[1] == 'Positivo')\\\n",
        "    .flatMap(lambda x: [x.strip().lower() for x in x[0].split(',')])\\\n",
        "    .map(lambda x: [x, 1])\\\n",
        "    .reduceByKey(lambda a,b: a + b)\\\n",
        "    .sortBy(lambda entrada: entrada[1], ascending=False)\\\n",
        "    .take(4)"
      ],
      "execution_count": null,
      "outputs": [
        {
          "output_type": "execute_result",
          "data": {
            "text/plain": [
              "[('outros', 841588),\n",
              " ('tosse', 576175),\n",
              " ('febre', 462087),\n",
              " ('dor de garganta', 290157)]"
            ]
          },
          "metadata": {
            "tags": []
          },
          "execution_count": 10
        }
      ]
    },
    {
      "cell_type": "code",
      "metadata": {
        "id": "0RIpKf5pCL9p",
        "outputId": "5dc30099-5279-4c66-b010-748b8cd4d346"
      },
      "source": [
        "#informacao 5 - Sintomas mais comuns para casos não positivos para corona virus\n",
        "\n",
        "arquivoRDD.map(lambda linha: [linha.split(';')[4],linha.split(';')[11]])\\\n",
        "    .filter(lambda x: x[1] == 'Negativo')\\\n",
        "    .flatMap(lambda x: [x.strip().lower() for x in x[0].split(',')])\\\n",
        "    .map(lambda x: [x, 1])\\\n",
        "    .reduceByKey(lambda a,b: a + b)\\\n",
        "    .sortBy(lambda entrada: entrada[1], ascending=False)\\\n",
        "    .take(4)"
      ],
      "execution_count": null,
      "outputs": [
        {
          "output_type": "execute_result",
          "data": {
            "text/plain": [
              "[('outros', 1676861),\n",
              " ('tosse', 774024),\n",
              " ('dor de garganta', 522740),\n",
              " ('febre', 497189)]"
            ]
          },
          "metadata": {
            "tags": []
          },
          "execution_count": 11
        }
      ]
    },
    {
      "cell_type": "code",
      "metadata": {
        "id": "bytWnrGWCL9p",
        "outputId": "586208df-52e5-4f3c-ec50-64edf0f5997e"
      },
      "source": [
        "#informacao 6 - Quantidade de casos positivos no Paraná\n",
        "\n",
        "arquivoRDD.map(lambda linha: [linha.split(';')[11],linha.split(';')[15]])\\\n",
        "    .filter(lambda x: x[0] == 'Positivo')\\\n",
        "    .filter(lambda x: x[1] == 'PARANÁ')\\\n",
        "    .count()"
      ],
      "execution_count": null,
      "outputs": [
        {
          "output_type": "execute_result",
          "data": {
            "text/plain": [
              "6183"
            ]
          },
          "metadata": {
            "tags": []
          },
          "execution_count": 12
        }
      ]
    },
    {
      "cell_type": "code",
      "metadata": {
        "id": "V3PQW_RXCL9q",
        "outputId": "ed8b1f8c-b8a3-4164-b991-585370b7f668"
      },
      "source": [
        "#informacao 7 - Municipio do Paraná com a maior quantidade de óbitos (evolucaoCaso)\n",
        "\n",
        "arquivoRDD.map(lambda linha: [linha.split(';')[15]\n",
        "                              ,linha.split(';')[17]\n",
        "                              ,linha.split(';')[31]\n",
        "                             ])\\\n",
        "    .filter(lambda x: x[0] == 'PARANÁ' and x[2] == 'Óbito')\\\n",
        "    .map(lambda x: [x[1], 1])\\\n",
        "    .reduceByKey(lambda a,b: a + b)\\\n",
        "    .sortBy(lambda entrada: entrada[1], ascending=False)\\\n",
        "    .max(lambda x: x[1])"
      ],
      "execution_count": null,
      "outputs": [
        {
          "output_type": "execute_result",
          "data": {
            "text/plain": [
              "('Foz do Iguaçu', 25)"
            ]
          },
          "metadata": {
            "tags": []
          },
          "execution_count": 13
        }
      ]
    },
    {
      "cell_type": "code",
      "metadata": {
        "id": "Z19lqmabCL9q",
        "outputId": "82e601ba-29b1-4465-e579-c723c784cb52"
      },
      "source": [
        "#informacao 8 - Quantidade de municipios no Paraná com casos positivos\n",
        "\n",
        "arquivoRDD.map(lambda linha: [linha.split(';')[11]\n",
        "                              ,linha.split(';')[15]\n",
        "                              ,linha.split(';')[17]])\\\n",
        "    .filter(lambda x: x[0] == 'Positivo' and x[1] == 'PARANÁ')\\\n",
        "    .map(lambda x: x[2])\\\n",
        "    .groupBy(lambda x: x)\\\n",
        "    .count()"
      ],
      "execution_count": null,
      "outputs": [
        {
          "output_type": "execute_result",
          "data": {
            "text/plain": [
              "296"
            ]
          },
          "metadata": {
            "tags": []
          },
          "execution_count": 14
        }
      ]
    },
    {
      "cell_type": "code",
      "metadata": {
        "id": "tn7vH5giCL9q",
        "outputId": "b46f3c3c-19e4-40d2-ad3b-2341770ec163"
      },
      "source": [
        "#informacao 9 - Quantidade de municipios no Paraná sem casos positivos\n",
        "\n",
        "# Não existe informação de que a base possui todos os municípios do Paraná. Assim, atrubuí a uma \n",
        "# variável o número de municípios e subtraí da quantidade de positivos\n",
        "\n",
        "total_municipios = 399\n",
        "total_municipios - arquivoRDD.map(lambda linha: [linha.split(';')[11]\n",
        "                              ,linha.split(';')[15]\n",
        "                              ,linha.split(';')[17]])\\\n",
        "    .filter(lambda x: x[0] == 'Positivo' and x[1] == 'PARANÁ')\\\n",
        "    .map(lambda x: x[2])\\\n",
        "    .groupBy(lambda x: x)\\\n",
        "    .count()"
      ],
      "execution_count": null,
      "outputs": [
        {
          "output_type": "execute_result",
          "data": {
            "text/plain": [
              "103"
            ]
          },
          "metadata": {
            "tags": []
          },
          "execution_count": 15
        }
      ]
    },
    {
      "cell_type": "code",
      "metadata": {
        "id": "4-IjYL3TCL9q"
      },
      "source": [
        "#informacao 10 - Estado com a maior taxa de falecimento de mulheres\n",
        "\n",
        "total_estado = arquivoRDD.map(lambda linha: [linha.split(';')[11]\n",
        "                              ,linha.split(';')[13]\n",
        "                              ,linha.split(';')[15]\n",
        "                              ,linha.split(';')[31]])\\\n",
        "    .filter(lambda x: x[0] == 'Positivo' and x[1] == 'Feminino')\\\n",
        "    .map(lambda x: [x[2], 1])\\\n",
        "    .reduceByKey(lambda a,b: a + b)\\\n",
        "    .collect()"
      ],
      "execution_count": null,
      "outputs": []
    },
    {
      "cell_type": "code",
      "metadata": {
        "id": "mC9I1zSPCL9r"
      },
      "source": [
        "obito_estado = arquivoRDD.map(lambda linha: [linha.split(';')[11]\n",
        "                              ,linha.split(';')[13]\n",
        "                              ,linha.split(';')[15]\n",
        "                              ,linha.split(';')[31]])\\\n",
        "    .filter(lambda x: x[0] == 'Positivo' and x[1] == 'Feminino' and x[3] == 'Óbito')\\\n",
        "    .map(lambda x: [x[2], 1])\\\n",
        "    .reduceByKey(lambda a,b: a + b)\\\n",
        "    .collect()"
      ],
      "execution_count": null,
      "outputs": []
    },
    {
      "cell_type": "code",
      "metadata": {
        "id": "nBLtW3gZCL9r",
        "outputId": "3a75f3ba-b023-4d34-a9cc-cf15ed2c9e83"
      },
      "source": [
        "i = 0\n",
        "todos = {}\n",
        "for estado, total in total_estado:\n",
        "    print('Taxa em {}: {}%'.format(estado,(obito_estado[i][1]/total)*100))\n",
        "    i += 1"
      ],
      "execution_count": null,
      "outputs": [
        {
          "output_type": "stream",
          "text": [
            "Taxa em SANTA CATARINA: 0.20389438270975632%\n",
            "Taxa em RIO DE JANEIRO: 0.6494326070244283%\n",
            "Taxa em RIO GRANDE DO SUL: 0.10874447412590718%\n",
            "Taxa em MINAS GERAIS: 0.8960016573441062%\n",
            "Taxa em SÃO PAULO: 0.07052602574363953%\n",
            "Taxa em BAHIA: 1.3769228183783904%\n",
            "Taxa em PARANÁ: 0.12674271229404308%\n"
          ],
          "name": "stdout"
        }
      ]
    },
    {
      "cell_type": "code",
      "metadata": {
        "id": "YnrAms0QCL9r",
        "outputId": "8aa118c1-57ae-4ea3-9f98-50aaeabbdf34"
      },
      "source": [
        "#informacao 11 - Menor idade de mulher positiva para covid\n",
        "\n",
        "arquivoRDD.map(lambda linha: [linha.split(';')[11]\n",
        "                              ,linha.split(';')[13]\n",
        "                              ,linha.split(';')[29]])\\\n",
        "    .filter(lambda x: x[0] == 'Positivo' and x[1] == 'Feminino')\\\n",
        "    .min(lambda x: x[2])"
      ],
      "execution_count": null,
      "outputs": [
        {
          "output_type": "execute_result",
          "data": {
            "text/plain": [
              "['Positivo', 'Feminino', '0']"
            ]
          },
          "metadata": {
            "tags": []
          },
          "execution_count": 19
        }
      ]
    },
    {
      "cell_type": "code",
      "metadata": {
        "id": "ghveAa-BCL9r",
        "outputId": "11d21334-99fb-4740-e517-e9a2487d0a38"
      },
      "source": [
        "#informacao 12 - Maior idade de mulher positiva para covid\n",
        "\n",
        "arquivoRDD.map(lambda linha: [linha.split(';')[11]\n",
        "                              ,linha.split(';')[13]\n",
        "                              ,linha.split(';')[29]])\\\n",
        "    .filter(lambda x: x[0] == 'Positivo' and x[1] == 'Feminino')\\\n",
        "    .max(lambda x: x[2])"
      ],
      "execution_count": null,
      "outputs": [
        {
          "output_type": "execute_result",
          "data": {
            "text/plain": [
              "['Positivo', 'Feminino', '99']"
            ]
          },
          "metadata": {
            "tags": []
          },
          "execution_count": 20
        }
      ]
    },
    {
      "cell_type": "code",
      "metadata": {
        "id": "5-dG6GNcCL9s"
      },
      "source": [
        "#informacao 13 - Quantidade de casos positivos, em granularidade diária, ao longo do tempo \n",
        "positivo_por_dia = arquivoRDD.map(lambda linha: [linha.split(';')[1]\n",
        "                             ,linha.split(';')[11]])\\\n",
        "    .filter(lambda x: x[1] == 'Positivo')\\\n",
        "    .map(lambda data: [data[0][0:10],1])\\\n",
        "    .reduceByKey(lambda a,b: a + b)\\\n",
        "    .sortBy(lambda x: x[0], ascending=True)\\\n",
        "    .collect()"
      ],
      "execution_count": null,
      "outputs": []
    },
    {
      "cell_type": "code",
      "metadata": {
        "id": "4I0MXYQrCL9s"
      },
      "source": [
        "import matplotlib.pyplot as plt\n",
        "x = [a for a, b in positivo_por_dia]\n",
        "y = [b for a, b in positivo_por_dia]"
      ],
      "execution_count": null,
      "outputs": []
    },
    {
      "cell_type": "code",
      "metadata": {
        "id": "PVidyahkCL9s",
        "outputId": "3479a150-bd7f-4169-fa95-74edf96407da"
      },
      "source": [
        "fig = plt.figure(figsize=(22,10))\n",
        "ax = fig.add_axes([0,0,1,1])\n",
        "ax.bar(x,y)\n",
        "plt.show()"
      ],
      "execution_count": null,
      "outputs": [
        {
          "output_type": "display_data",
          "data": {
            "image/png": "[encoded data removed]",
            "text/plain": [
              "<Figure size 1584x720 with 1 Axes>"
            ]
          },
          "metadata": {
            "tags": [],
            "needs_background": "light"
          }
        }
      ]
    },
    {
      "cell_type": "code",
      "metadata": {
        "id": "Cbh2Grx3CL9s"
      },
      "source": [
        "#informacao 14 - Quantidade de casos positivos, em granularidade semanal, ao longo do tempo\n",
        "from datetime import datetime"
      ],
      "execution_count": null,
      "outputs": []
    },
    {
      "cell_type": "code",
      "metadata": {
        "id": "by5Ehr2pCL9t"
      },
      "source": [
        "def get_semana(x):\n",
        "    try:\n",
        "        semana = datetime.strptime(x[0][:10], '%Y-%m-%d').isocalendar()[1]\n",
        "    except:\n",
        "        semana = 'Null'\n",
        "    return semana"
      ],
      "execution_count": null,
      "outputs": []
    },
    {
      "cell_type": "code",
      "metadata": {
        "id": "bZIHBoVNCL9t"
      },
      "source": [
        "positivo_semana = arquivoRDD.map(lambda linha: [linha.split(';')[1]\n",
        "                             ,linha.split(';')[11]])\\\n",
        "    .filter(lambda x: x[1] == 'Positivo')\\\n",
        "    .map(lambda x: [get_semana(x), 1])\\\n",
        "    .reduceByKey(lambda a, b: a + b)\\\n",
        "    .filter(lambda x: x[0] != 'Null')\\\n",
        "    .sortBy(lambda x: int(x[0]), ascending=True)\\\n",
        "    .collect()"
      ],
      "execution_count": null,
      "outputs": []
    },
    {
      "cell_type": "code",
      "metadata": {
        "id": "REVhcZ9qCL9t"
      },
      "source": [
        "x = [a for a, b in positivo_semana]\n",
        "y = [b for a, b in positivo_semana]"
      ],
      "execution_count": null,
      "outputs": []
    },
    {
      "cell_type": "code",
      "metadata": {
        "id": "iz06hMCyCL9t",
        "outputId": "a8058321-ca00-4d0d-e710-d52f5b4a7093"
      },
      "source": [
        "fig = plt.figure(figsize=(22,10))\n",
        "ax = fig.add_axes([0,0,1,1])\n",
        "ax.bar(x,y)\n",
        "plt.show()"
      ],
      "execution_count": null,
      "outputs": [
        {
          "output_type": "display_data",
          "data": {
            "image/png": "[encoded data removed]",
            "text/plain": [
              "<Figure size 1584x720 with 1 Axes>"
            ]
          },
          "metadata": {
            "tags": [],
            "needs_background": "light"
          }
        }
      ]
    },
    {
      "cell_type": "code",
      "metadata": {
        "id": "s_-njBRSCL9u"
      },
      "source": [
        "#informacao 15 - Quantidade de pacientes que faleceram (evolucaoCaso) separados pela idade\n",
        "\n",
        "info_15 = arquivoRDD.map(lambda linha: [linha.split(';')[29], linha.split(';')[31]])\\\n",
        "    .filter(lambda x: x[1] == 'Óbito')\\\n",
        "    .map(lambda x: [x[0], 1])\\\n",
        "    .reduceByKey(lambda a, b: a + b)\\\n",
        "    .sortBy(lambda x: int(x[0]), ascending=True)\\\n",
        "    .collect()\n"
      ],
      "execution_count": null,
      "outputs": []
    },
    {
      "cell_type": "code",
      "metadata": {
        "id": "PFymaO-fCL9u"
      },
      "source": [
        "x = [a for a, b in info_15]\n",
        "y = [b for a, b in info_15]"
      ],
      "execution_count": null,
      "outputs": []
    },
    {
      "cell_type": "code",
      "metadata": {
        "id": "VPqPyDq9CL9u",
        "outputId": "98677092-bfec-4b9d-8830-c8694b3e6a2e"
      },
      "source": [
        "fig = plt.figure(figsize=(22,10))\n",
        "ax = fig.add_axes([0,0,1,1])\n",
        "ax.bar(x,y)\n",
        "plt.show()"
      ],
      "execution_count": null,
      "outputs": [
        {
          "output_type": "display_data",
          "data": {
            "image/png": "[encoded data removed]",
            "text/plain": [
              "<Figure size 1584x720 with 1 Axes>"
            ]
          },
          "metadata": {
            "tags": [],
            "needs_background": "light"
          }
        }
      ]
    },
    {
      "cell_type": "code",
      "metadata": {
        "id": "g47VOx4QCL9u"
      },
      "source": [
        "#informacao 16 - Taxa de óbito (evolucaoCaso) por idade\n",
        "\n",
        "total_obitos = arquivoRDD.map(lambda linha: linha.split(';')[31])\\\n",
        "    .filter(lambda x: x == 'Óbito')\\\n",
        "    .count()"
      ],
      "execution_count": null,
      "outputs": []
    },
    {
      "cell_type": "code",
      "metadata": {
        "id": "VkAFSsnOCL9v",
        "outputId": "a8a6b109-5663-40ea-f7f8-49a425a25d0f"
      },
      "source": [
        "i = 0\n",
        "for idade, total in info_15:\n",
        "    print('Taxa em {} anos: {}%'.format(idade,(info_15[i][1]/total_obitos)*100))\n",
        "    i += 1"
      ],
      "execution_count": null,
      "outputs": [
        {
          "output_type": "stream",
          "text": [
            "Taxa em 0 anos: 2.9672615788897403%\n",
            "Taxa em 1 anos: 0.09854374247235301%\n",
            "Taxa em 2 anos: 0.15329026606810467%\n",
            "Taxa em 3 anos: 0.07664513303405233%\n",
            "Taxa em 4 anos: 0.05474652359575167%\n",
            "Taxa em 5 anos: 0.032847914157451%\n",
            "Taxa em 6 anos: 0.04379721887660134%\n",
            "Taxa em 7 anos: 0.065695828314902%\n",
            "Taxa em 8 anos: 0.02189860943830067%\n",
            "Taxa em 9 anos: 0.07664513303405233%\n",
            "Taxa em 10 anos: 0.032847914157451%\n",
            "Taxa em 12 anos: 0.04379721887660134%\n",
            "Taxa em 13 anos: 0.02189860943830067%\n",
            "Taxa em 14 anos: 0.02189860943830067%\n",
            "Taxa em 15 anos: 0.032847914157451%\n",
            "Taxa em 16 anos: 0.131391656629804%\n",
            "Taxa em 17 anos: 0.07664513303405233%\n",
            "Taxa em 18 anos: 0.10949304719150334%\n",
            "Taxa em 19 anos: 0.15329026606810467%\n",
            "Taxa em 20 anos: 0.15329026606810467%\n",
            "Taxa em 21 anos: 0.17518887550640536%\n",
            "Taxa em 22 anos: 0.229935399102157%\n",
            "Taxa em 23 anos: 0.164239570787255%\n",
            "Taxa em 24 anos: 0.164239570787255%\n",
            "Taxa em 25 anos: 0.2518340085404577%\n",
            "Taxa em 26 anos: 0.361327055731961%\n",
            "Taxa em 27 anos: 0.262783313259608%\n",
            "Taxa em 28 anos: 0.30658053213620934%\n",
            "Taxa em 29 anos: 0.27373261797875836%\n",
            "Taxa em 30 anos: 0.29563122741705905%\n",
            "Taxa em 31 anos: 0.20803678966385633%\n",
            "Taxa em 32 anos: 0.42702288404686306%\n",
            "Taxa em 33 anos: 0.4708201029234644%\n",
            "Taxa em 34 anos: 0.5584145406766671%\n",
            "Taxa em 35 anos: 0.4708201029234644%\n",
            "Taxa em 36 anos: 0.6022117595532683%\n",
            "Taxa em 37 anos: 0.7117048067447718%\n",
            "Taxa em 38 anos: 0.6131610642724187%\n",
            "Taxa em 39 anos: 0.722654111463922%\n",
            "Taxa em 40 anos: 0.5912624548341181%\n",
            "Taxa em 41 anos: 0.6679075878681704%\n",
            "Taxa em 42 anos: 0.8102485492171247%\n",
            "Taxa em 43 anos: 0.8978429869703274%\n",
            "Taxa em 44 anos: 0.8211978539362751%\n",
            "Taxa em 45 anos: 0.8540457680937261%\n",
            "Taxa em 46 anos: 0.9963867294426804%\n",
            "Taxa em 47 anos: 0.9087922916894777%\n",
            "Taxa em 48 anos: 0.9306909011277784%\n",
            "Taxa em 49 anos: 0.8430964633745757%\n",
            "Taxa em 50 anos: 0.9087922916894777%\n",
            "Taxa em 51 anos: 0.9635388152852293%\n",
            "Taxa em 52 anos: 1.1715756049490857%\n",
            "Taxa em 53 anos: 1.149676995510785%\n",
            "Taxa em 54 anos: 1.379612394612942%\n",
            "Taxa em 55 anos: 1.5329026606810467%\n",
            "Taxa em 56 anos: 1.7299901456257527%\n",
            "Taxa em 57 anos: 1.3577137851746415%\n",
            "Taxa em 58 anos: 1.467206832366145%\n",
            "Taxa em 59 anos: 1.7628380597832036%\n",
            "Taxa em 60 anos: 1.6752436220300009%\n",
            "Taxa em 61 anos: 1.9489762400087596%\n",
            "Taxa em 62 anos: 1.8504324975364064%\n",
            "Taxa em 63 anos: 2.0694185919194132%\n",
            "Taxa em 64 anos: 1.8942297164130077%\n",
            "Taxa em 65 anos: 1.8613818022555568%\n",
            "Taxa em 66 anos: 2.1132158107960146%\n",
            "Taxa em 67 anos: 2.28840468630242%\n",
            "Taxa em 68 anos: 2.2446074674258183%\n",
            "Taxa em 69 anos: 2.2008102485492174%\n",
            "Taxa em 70 anos: 2.29935399102157%\n",
            "Taxa em 71 anos: 2.518340085404577%\n",
            "Taxa em 72 anos: 2.135114420234315%\n",
            "Taxa em 73 anos: 2.3650498193364724%\n",
            "Taxa em 74 anos: 2.135114420234315%\n",
            "Taxa em 75 anos: 2.189860943830067%\n",
            "Taxa em 76 anos: 2.3212526004598706%\n",
            "Taxa em 77 anos: 1.9818241541662105%\n",
            "Taxa em 78 anos: 1.905179021132158%\n",
            "Taxa em 79 anos: 2.1789116391109165%\n",
            "Taxa em 80 anos: 2.3212526004598706%\n",
            "Taxa em 81 anos: 2.003722763604511%\n",
            "Taxa em 82 anos: 2.025621373042812%\n",
            "Taxa em 83 anos: 1.9161283258513084%\n",
            "Taxa em 84 anos: 1.8504324975364064%\n",
            "Taxa em 85 anos: 1.7409394503449032%\n",
            "Taxa em 86 anos: 1.5219533559618965%\n",
            "Taxa em 87 anos: 1.6533450125917004%\n",
            "Taxa em 88 anos: 1.4562575276469945%\n",
            "Taxa em 89 anos: 1.2263221285448374%\n",
            "Taxa em 90 anos: 1.215372823825687%\n",
            "Taxa em 91 anos: 0.9744881200043798%\n",
            "Taxa em 92 anos: 1.0292346436001314%\n",
            "Taxa em 93 anos: 0.7774006350596737%\n",
            "Taxa em 94 anos: 0.65695828314902%\n",
            "Taxa em 95 anos: 0.5912624548341181%\n",
            "Taxa em 96 anos: 0.41607357932771266%\n",
            "Taxa em 97 anos: 0.24088470382130733%\n",
            "Taxa em 98 anos: 0.18613818022555567%\n",
            "Taxa em 99 anos: 0.164239570787255%\n",
            "Taxa em 100 anos: 0.10949304719150334%\n",
            "Taxa em 101 anos: 0.07664513303405233%\n",
            "Taxa em 102 anos: 0.10949304719150334%\n",
            "Taxa em 103 anos: 0.04379721887660134%\n",
            "Taxa em 104 anos: 0.04379721887660134%\n",
            "Taxa em 105 anos: 0.02189860943830067%\n",
            "Taxa em 107 anos: 0.010949304719150335%\n",
            "Taxa em 108 anos: 0.02189860943830067%\n",
            "Taxa em 110 anos: 0.02189860943830067%\n",
            "Taxa em 188 anos: 0.010949304719150335%\n"
          ],
          "name": "stdout"
        }
      ]
    },
    {
      "cell_type": "code",
      "metadata": {
        "id": "SgZoRwj7CL9v"
      },
      "source": [
        "#informacao 17 - Idade média das mulheres positivas para covid\n",
        "\n",
        "total_mulheres = arquivoRDD.map(lambda linha: [linha.split(';')[11]\n",
        "                              ,linha.split(';')[13]\n",
        "                              ,linha.split(';')[29]])\\\n",
        "    .filter(lambda x: x[0] == 'Positivo' and x[1] == 'Feminino')\\\n",
        "    .count()"
      ],
      "execution_count": null,
      "outputs": []
    },
    {
      "cell_type": "code",
      "metadata": {
        "id": "5-J6i7suCL9w"
      },
      "source": [
        "soma_idade = sum(arquivoRDD.map(lambda linha: [linha.split(';')[11]\n",
        "                              ,linha.split(';')[13]\n",
        "                              ,linha.split(';')[29]])\\\n",
        "    .filter(lambda x: x[0] == 'Positivo' and x[1] == 'Feminino')\\\n",
        "    .map(lambda x: int(x[2]))\\\n",
        "    .collect())"
      ],
      "execution_count": null,
      "outputs": []
    },
    {
      "cell_type": "code",
      "metadata": {
        "id": "T6t0mX4gCL9w",
        "outputId": "7cbf434c-a6cd-49fb-b8ba-f5be0172a1eb"
      },
      "source": [
        "print('Media de idade: ' + str(soma_idade/total_mulheres))"
      ],
      "execution_count": null,
      "outputs": [
        {
          "output_type": "stream",
          "text": [
            "Media de idade: 40.96124658120806\n"
          ],
          "name": "stdout"
        }
      ]
    },
    {
      "cell_type": "code",
      "metadata": {
        "id": "KY7aEpBKCL9x",
        "outputId": "bf1e14ba-eab2-44bd-f50c-cd4438205503"
      },
      "source": [
        "#informacao 18 - Município do Paraná com a maior quantidade de mulheres positivos para covid\n",
        "\n",
        "arquivoRDD.map(lambda linha: [linha.split(';')[11]\n",
        "                              ,linha.split(';')[13]\n",
        "                              ,linha.split(';')[15]\n",
        "                              ,linha.split(';')[17]])\\\n",
        "    .filter(lambda x: x[0] == 'Positivo' and x[1] == 'Feminino' and x[2] == 'PARANÁ')\\\n",
        "    .map(lambda x: [x[3],1])\\\n",
        "    .reduceByKey(lambda a, b: a + b)\\\n",
        "    .sortBy(lambda x: x[1], ascending=False)\\\n",
        "    .take(5)"
      ],
      "execution_count": null,
      "outputs": [
        {
          "output_type": "execute_result",
          "data": {
            "text/plain": [
              "[('Curitiba', 903),\n",
              " ('Colombo', 95),\n",
              " ('São José dos Pinhais', 94),\n",
              " ('Londrina', 91),\n",
              " ('Foz do Iguaçu', 79)]"
            ]
          },
          "metadata": {
            "tags": []
          },
          "execution_count": 37
        }
      ]
    },
    {
      "cell_type": "code",
      "metadata": {
        "scrolled": true,
        "id": "NgCjRaE2CL9x"
      },
      "source": [
        "#informacao 19 - Dia da semana com a maior quantidade de testes realizados\n",
        "\n",
        "weekDays = (\"Segunda\",\"Terca\",\"Querta\",\"Quinta\",\"Sexta\",\"Sabado\",\"Domingo\")\n",
        "\n",
        "def get_dia_semana(x):\n",
        "    try:\n",
        "        dia_semana = datetime.strptime(x[:10], '%Y-%m-%d').weekday()\n",
        "    except:\n",
        "        dia_semana = 'Null'\n",
        "    return dia_semana\n"
      ],
      "execution_count": null,
      "outputs": []
    },
    {
      "cell_type": "code",
      "metadata": {
        "id": "Q3cWsQ-ACL9x"
      },
      "source": [
        "mais_testes = arquivoRDD.map(lambda linha: linha.split(';')[9])\\\n",
        "    .map(lambda x: [get_dia_semana(x), 1])\\\n",
        "    .reduceByKey(lambda a, b: a + b)\\\n",
        "    .max(lambda x: x[1])"
      ],
      "execution_count": null,
      "outputs": []
    },
    {
      "cell_type": "code",
      "metadata": {
        "id": "ji-S4zZQCL9y",
        "outputId": "32f4bbd4-94d0-46e8-848d-ff5bd93d0a42"
      },
      "source": [
        "print(f'Dia da semana com mais testes realizados: {weekDays[mais_testes[0]]} com {mais_testes[1]} testes')\n"
      ],
      "execution_count": null,
      "outputs": [
        {
          "output_type": "stream",
          "text": [
            "Dia da semana com mais testes realizados: Segunda com 842570 testes\n"
          ],
          "name": "stdout"
        }
      ]
    },
    {
      "cell_type": "code",
      "metadata": {
        "id": "3n_-sGcRCL9y"
      },
      "source": [
        "#informacao 20 - Dia da semana com maior quantidade de pacientes positivos para corona virus\n",
        "\n",
        "mais_positivo = arquivoRDD.map(lambda linha: [linha.split(';')[9]\n",
        "                              ,linha.split(';')[11]])\\\n",
        "    .filter(lambda x: x[1] == 'Positivo')\\\n",
        "    .map(lambda x: [get_dia_semana(x[0]), 1])\\\n",
        "    .reduceByKey(lambda a, b: a + b)\\\n",
        "    .max(lambda x: x[1])"
      ],
      "execution_count": null,
      "outputs": []
    },
    {
      "cell_type": "code",
      "metadata": {
        "id": "9d0VCnVkCL9y",
        "outputId": "ca2bc040-167b-4fe6-b42e-abf7b1c019df"
      },
      "source": [
        "print(f'Dia da semana com mais pacientes positivos: {weekDays[mais_positivo[0]]} com {mais_positivo[1]} pacientes')"
      ],
      "execution_count": null,
      "outputs": [
        {
          "output_type": "stream",
          "text": [
            "Dia da semana com mais pacientes positivos: Segunda com 240597 pacientes\n"
          ],
          "name": "stdout"
        }
      ]
    },
    {
      "cell_type": "code",
      "metadata": {
        "id": "HtNQRYraCL9y"
      },
      "source": [
        "#informacao 21 - Municipio, com mais de 500 testes, com a maior taxa de exames que não foram positivos\n",
        "#                para COVID (casos que foram testados porém não tiveram o resultadoTeste como Positivo)\n",
        "#.map(lambda x: [x[0] + '_' + x[1],1])\\\n",
        "#.reduceByKey(lambda a,b: a+b)\\\n",
        "\n",
        "mais_500 = arquivoRDD.map(lambda linha: [linha.split(';')[17]\n",
        "                             ,linha.split(';')[11]])\\\n",
        "    .map(lambda x: [x[0], 1])\\\n",
        "    .reduceByKey(lambda a, b: a + b)\\\n",
        "    .filter(lambda a: a[1] >= 500)\\\n",
        "    .collect()"
      ],
      "execution_count": null,
      "outputs": []
    },
    {
      "cell_type": "code",
      "metadata": {
        "id": "T-RfotNNCL9y"
      },
      "source": [
        "positivos = arquivoRDD.map(lambda linha: [linha.split(';')[17]\n",
        "                             ,linha.split(';')[11]])\\\n",
        "    .filter(lambda a: a[1] == 'Positivo')\\\n",
        "    .map(lambda x: [x[0],1])\\\n",
        "    .reduceByKey(lambda a, b: a + b)\\\n",
        "    .collect()"
      ],
      "execution_count": null,
      "outputs": []
    },
    {
      "cell_type": "code",
      "metadata": {
        "id": "_a7xPFT8CL9z"
      },
      "source": [
        "def tup_to_dict(tup, di):\n",
        "    di = dict(tup)\n",
        "    return di"
      ],
      "execution_count": null,
      "outputs": []
    },
    {
      "cell_type": "code",
      "metadata": {
        "id": "NiARNDbwCL9z"
      },
      "source": [
        "dic_positivos = {}"
      ],
      "execution_count": null,
      "outputs": []
    },
    {
      "cell_type": "code",
      "metadata": {
        "id": "ynf00KPpCL9z"
      },
      "source": [
        "dic_positivos = tup_to_dict(positivos,dic_positivos)"
      ],
      "execution_count": null,
      "outputs": []
    },
    {
      "cell_type": "code",
      "metadata": {
        "id": "YPekwTKzCL9z"
      },
      "source": [
        "lista_taxa = []\n",
        "for i in mais_500:\n",
        "    taxa = dic_positivos[i[0]] / i[1]\n",
        "    lista_taxa.append((i[0],taxa))"
      ],
      "execution_count": null,
      "outputs": []
    },
    {
      "cell_type": "code",
      "metadata": {
        "id": "09ARMIYaCL9z",
        "outputId": "3eb74fbf-ef58-4117-d8f9-4a8750404277"
      },
      "source": [
        "print(max(lista_taxa, key=lambda i: i[1]))"
      ],
      "execution_count": null,
      "outputs": [
        {
          "output_type": "stream",
          "text": [
            "('Rio De Janeiro', 0.8479630880036012)\n"
          ],
          "name": "stdout"
        }
      ]
    }
  ]
}