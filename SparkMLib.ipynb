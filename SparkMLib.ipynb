{
  "nbformat": 4,
  "nbformat_minor": 0,
  "metadata": {
    "kernelspec": {
      "display_name": "Python 3",
      "language": "python",
      "name": "python3"
    },
    "language_info": {
      "codemirror_mode": {
        "name": "ipython",
        "version": 3
      },
      "file_extension": ".py",
      "mimetype": "text/x-python",
      "name": "python",
      "nbconvert_exporter": "python",
      "pygments_lexer": "ipython3",
      "version": "3.7.4"
    },
    "colab": {
      "name": "AtividadeAprendizagemDeMaquina.ipynb",
      "provenance": []
    }
  },
  "cells": [
    {
      "cell_type": "markdown",
      "metadata": {
        "id": "z1Zaj_kQB4RO"
      },
      "source": [
        "# Atividade Aprendizagem de Máquina - Spark MLLib\n",
        "\n",
        "Considerando o dataset detalhado a seguir, aplique as técnicas solicitadas\n",
        "\n",
        "### Dataset dados de sensores veicular\n",
        "\n",
        "- Arquivo disponível em /home/dados/sensores/treinamento.csv\n",
        "- Arquivo disponível em /home/dados/sensores/teste.csv\n",
        "- Dados relativos a sensores de internet das coisas (IoT) para detecção de estados dos medidores\n",
        "\n",
        "\n",
        "| #  \t| Nome do campo           \t| Descrição                                                                     \t|\n",
        "|----\t|-------------------------\t|-------------------------------------------------------------------------------\t|\n",
        "| 0  \t| Hora               \t| Hora média das medições                                                          \t|\n",
        "| 1  \t| Minuto         \t| Minuto médio das medições                                               \t|\n",
        "| 2  \t| Temp_minima         \t| Temperatura mínima das medições                                               \t|\n",
        "| 3  \t| Temp_maxima         \t| Temperatura máxima das medições                                               \t|\n",
        "| 4  \t| Latitude_media  \t| Latitude média das medições                             \t|\n",
        "| 5  \t| Longitude_media  \t| Longitude média das medições                             \t|\n",
        "| 6  \t| Classe  \t| Estado do medidor (Frio, Moderado, Quente, Alerta)                             \t|\n",
        "\n",
        "\n",
        "**Informações a serem extraídas:**\n",
        "\n",
        "1. Calcule a acurácia de classificação na base de testes para os seguintes classificadores:\n",
        "    1. Árvore de Decisão (from pyspark.ml.classification import DecisionTreeClassifier)\n",
        "    2. Random Forest com 5 arvores (from pyspark.ml.classification import RandomForestClassifier, e numTrees=5 no construtor do RandomForestClassifier)\n",
        "    3. Random Forest com 100 arvores (numTrees=100 no construtor do RandomForestClassifier)\n",
        "2. Determine qual a quantidade de eventos Alerta (label = 3.0) classificados erroneamente como outra classe (falso-negativo) para os classificadores\n",
        "    1. Árvore de Decisão (from pyspark.ml.classification import DecisionTreeClassifier)\n",
        "    2. Random Forest com 5 arvores (from pyspark.ml.classification import RandomForestClassifier, e numTrees=5 no construtor do RandomForestClassifier)\n",
        "    3. Random Forest com 100 arvores (numTrees=100 no construtor do RandomForestClassifier)\n",
        "3. Determine qual a quantidade de eventos não Alerta (label = 0.0, ou label = 1.0, ou label = 2.0) classificados erroneamente como classe Alerta (falso-positivo) para os classificadores\n",
        "    1. Árvore de Decisão (from pyspark.ml.classification import DecisionTreeClassifier)\n",
        "    2. Random Forest com 5 arvores (from pyspark.ml.classification import RandomForestClassifier, e numTrees=5 no construtor do RandomForestClassifier)\n",
        "    3. Random Forest com 100 arvores (numTrees=100 no construtor do RandomForestClassifier)\n",
        "4. Faça votação entre os classificadores da etapa 1.A, 1.B e 1.C para atribuir a classe do evento de acordo com a maioria das classes entre os classificadores\n",
        "    - Dicas: Para isto, voce irá precisar fazer o join das predições de cada classificador de acordo com os IDs dos eventos. Posteriormente voce pode manipular o dataframe, após o join, para determinar qual classe de cada evento possuiu maior votação =). Exemplo de código:\n",
        "```python\n",
        "\n",
        "    import pyspark.sql.functions as func\n",
        "    \n",
        "    predicaoDT.select(func.col('prediction').alias('prediction_dt'),\n",
        "                        func.col('label'),\n",
        "                        func.col('id'))\\\n",
        "    .join(predicaoRF.select(func.col('prediction').alias('prediction_rf'),\n",
        "                        func.col('id')), ['id'])\n",
        "```\n",
        "5. Considerando que voce possui apenas duas classes: Não Alerta e Alerta. Calcule a acurácia de classificação na base de testes para os seguintes classificadores:\n",
        "    1. Árvore de Decisão (from pyspark.ml.classification import DecisionTreeClassifier)\n",
        "    2. Random Forest com 20 arvores (from pyspark.ml.classification import RandomForestClassifier, e numTrees=20 no construtor do RandomForestClassifier)\n",
        "    3. Random Forest com 100 arvores (numTrees=100 no construtor do RandomForestClassifier)\n",
        "        - Dicas: Para isto, você irá precisar manipular o dataframe para alterar os valores da coluna label, por exemplo através de uma UDF\n",
        "6. Determine qual a quantidade de eventos Alerta (label = 3.0) classificados erroneamente como outra classe (falso-negativo) para os classificadores do item 5\n",
        "7. Faça busca de parametros dos classificadores desenvolvidos no item 5. Plote um gráfico relacionando a acurácia e os parametros otimizados\n",
        "    1. Árvore de Decisão varie o parametro maxDepth de 1 a 20\n",
        "    2. Random Forest varie o numTrees de 1 a 20\n",
        "\n",
        "**Dicas:**\n",
        "- *Crie uma célula (Insert -> Insert Cell Below) para cada informação solicitada*\n",
        "- *A análise deve ser feita sobre os dados do HDFS*\n",
        "- *Inicialize o seu cluster executando o script em: Desktop/ambientes/spark/inicializar.sh*\n",
        "- *Acesse o seu cluster executando o script em: Desktop/ambientes/spark/abrir_navegador.sh*"
      ]
    },
    {
      "cell_type": "code",
      "metadata": {
        "id": "TpS9xYH3B4RS"
      },
      "source": [
        "import os\n",
        "os.environ['PYSPARK_PYTHON']='/usr/bin/python3'\n",
        "\n",
        "from pyspark.sql import SparkSession\n",
        "\n",
        "sc = SparkSession\\\n",
        "    .builder\\\n",
        "    .master('spark://spark-master:7077')\\\n",
        "    .config('spark.executor.memory','1g')\\\n",
        "    .getOrCreate()"
      ],
      "execution_count": null,
      "outputs": []
    },
    {
      "cell_type": "code",
      "metadata": {
        "id": "Rw8wqEA_B4RT"
      },
      "source": [
        "dfTreino = sc.read\\\n",
        "    .option('delimiter',',')\\\n",
        "    .option('header','true')\\\n",
        "    .option('inferschema','true')\\\n",
        "    .csv('hdfs://namenode:9000/treinamento.csv')\n",
        "\n",
        "dfTeste = sc.read\\\n",
        "    .option('delimiter',',')\\\n",
        "    .option('header','true')\\\n",
        "    .option('inferschema','true')\\\n",
        "    .csv('hdfs://namenode:9000/teste.csv')"
      ],
      "execution_count": null,
      "outputs": []
    },
    {
      "cell_type": "code",
      "metadata": {
        "scrolled": true,
        "id": "i4E5AIW2B4RT",
        "outputId": "66cf1efd-d8ea-41cb-cb92-54eae287dc52"
      },
      "source": [
        "dfTreino.printSchema()"
      ],
      "execution_count": null,
      "outputs": [
        {
          "output_type": "stream",
          "text": [
            "root\n",
            " |-- hora: double (nullable = true)\n",
            " |-- minuto: double (nullable = true)\n",
            " |-- temp_minima: double (nullable = true)\n",
            " |-- temp_maxima: double (nullable = true)\n",
            " |-- latitude_media: double (nullable = true)\n",
            " |-- longitude_media: double (nullable = true)\n",
            " |-- Classe: string (nullable = true)\n",
            "\n"
          ],
          "name": "stdout"
        }
      ]
    },
    {
      "cell_type": "code",
      "metadata": {
        "scrolled": true,
        "id": "zFMLDX3OB4RV",
        "outputId": "fa67ad76-9bce-441b-e4ff-8a5c0263992b"
      },
      "source": [
        "from pyspark.sql.functions import monotonically_increasing_id\n",
        "\n",
        "dfTeste = dfTeste.withColumn('id', monotonically_increasing_id())\n",
        "dfTeste.show(5)"
      ],
      "execution_count": null,
      "outputs": [
        {
          "output_type": "stream",
          "text": [
            "+---------+---------+-----------+-----------+--------------+---------------+--------+---+\n",
            "|     hora|   minuto|temp_minima|temp_maxima|latitude_media|longitude_media|  Classe| id|\n",
            "+---------+---------+-----------+-----------+--------------+---------------+--------+---+\n",
            "|11.787212|29.005116|      1.123|     28.606|      34.56035|      136.21983|Moderado|  0|\n",
            "|11.482636| 29.84576|      1.038|  29.306004|      34.56078|      136.22015|Moderado|  1|\n",
            "|11.312064|29.751745|      1.123|  29.006002|      34.55864|      136.22047|Moderado|  2|\n",
            "|11.530982|29.505793|      1.404|  29.081003|     34.560654|      136.22006|Moderado|  3|\n",
            "|  11.4008|29.422289|      1.504|  29.181004|     34.559814|      136.22006|Moderado|  4|\n",
            "+---------+---------+-----------+-----------+--------------+---------------+--------+---+\n",
            "only showing top 5 rows\n",
            "\n"
          ],
          "name": "stdout"
        }
      ]
    },
    {
      "cell_type": "code",
      "metadata": {
        "id": "UJomCcmuB4RW",
        "outputId": "3fa5bc8e-2555-460e-f5b0-164a8d25df32"
      },
      "source": [
        "from pyspark.ml.feature import StringIndexer, VectorAssembler\n",
        "\n",
        "features = ['hora', 'minuto', 'temp_minima', 'temp_maxima', 'latitude_media', 'longitude_media']\n",
        "\n",
        "#cria y\n",
        "dfTreino = StringIndexer(inputCol='Classe', outputCol='label')\\\n",
        "    .fit(dfTreino)\\\n",
        "    .transform(dfTreino)\n",
        "\n",
        "#cria x\n",
        "dfTreino = VectorAssembler(inputCols=features, outputCol='features')\\\n",
        "    .transform(dfTreino)\n",
        "\n",
        "dfTreino.show(5)"
      ],
      "execution_count": null,
      "outputs": [
        {
          "output_type": "stream",
          "text": [
            "+---------+---------+-----------+-----------+--------------+---------------+--------+-----+--------------------+\n",
            "|     hora|   minuto|temp_minima|temp_maxima|latitude_media|longitude_media|  Classe|label|            features|\n",
            "+---------+---------+-----------+-----------+--------------+---------------+--------+-----+--------------------+\n",
            "|11.312758|30.169239|     -1.859|     27.495|     36.169994|      139.23022|Moderado|  0.0|[11.312758,30.169...|\n",
            "|11.292323|29.638779|   8.542997|  36.177994|     31.349113|       73.50964|  Quente|  3.0|[11.292323,29.638...|\n",
            "|11.600304| 29.64275|     -1.861|  27.695002|      36.17158|      139.22937|Moderado|  0.0|[11.600304,29.642...|\n",
            "|11.462425|30.157314|   9.776998|  36.077995|     31.351593|        73.5104|  Quente|  3.0|[11.462425,30.157...|\n",
            "|11.735474|  29.9684|     -1.662|  27.695002|     36.169456|      139.23021|Moderado|  0.0|[11.735474,29.968...|\n",
            "+---------+---------+-----------+-----------+--------------+---------------+--------+-----+--------------------+\n",
            "only showing top 5 rows\n",
            "\n"
          ],
          "name": "stdout"
        }
      ]
    },
    {
      "cell_type": "code",
      "metadata": {
        "id": "WnT5gYFyB4RX"
      },
      "source": [
        "from pyspark.ml.feature import StringIndexer, VectorAssembler\n",
        "\n",
        "features = ['hora', 'minuto', 'temp_minima', 'temp_maxima', 'latitude_media', 'longitude_media']\n",
        "\n",
        "dfTeste = StringIndexer(inputCol='Classe', outputCol='label')\\\n",
        "    .fit(dfTeste)\\\n",
        "    .transform(dfTeste)\n",
        "\n",
        "dfTeste = VectorAssembler(inputCols=features, outputCol='features')\\\n",
        "    .transform(dfTeste)"
      ],
      "execution_count": null,
      "outputs": []
    },
    {
      "cell_type": "code",
      "metadata": {
        "id": "07dT1Kv_B4RY"
      },
      "source": [
        "#informação 1.A\n",
        "from pyspark.ml.classification import DecisionTreeClassifier\n",
        "import pyspark.sql.functions as func\n",
        "\n",
        "dt = DecisionTreeClassifier(labelCol='label', featuresCol='features')\n",
        "modeloDT = dt.fit(dfTreino)"
      ],
      "execution_count": null,
      "outputs": []
    },
    {
      "cell_type": "code",
      "metadata": {
        "id": "O1yZWLZ2B4RY",
        "outputId": "079da815-901e-4eb5-b20c-c02ef78dfc52"
      },
      "source": [
        "predicaoDT = modeloDT.transform(dfTeste)\n",
        "predicaoDT.select(func.col('prediction'), func.col('label'), func.col('id')).show(5)"
      ],
      "execution_count": null,
      "outputs": [
        {
          "output_type": "stream",
          "text": [
            "+----------+-----+---+\n",
            "|prediction|label| id|\n",
            "+----------+-----+---+\n",
            "|       0.0|  0.0|  0|\n",
            "|       0.0|  0.0|  1|\n",
            "|       0.0|  0.0|  2|\n",
            "|       0.0|  0.0|  3|\n",
            "|       0.0|  0.0|  4|\n",
            "+----------+-----+---+\n",
            "only showing top 5 rows\n",
            "\n"
          ],
          "name": "stdout"
        }
      ]
    },
    {
      "cell_type": "code",
      "metadata": {
        "id": "uP96EeCtB4RZ",
        "outputId": "3e2f9a17-6533-4712-8ee0-6361a47be874"
      },
      "source": [
        "from pyspark.ml.evaluation import MulticlassClassificationEvaluator\n",
        "\n",
        "MulticlassClassificationEvaluator(labelCol='label', predictionCol='prediction')\\\n",
        "    .evaluate(predicaoDT)"
      ],
      "execution_count": null,
      "outputs": [
        {
          "output_type": "execute_result",
          "data": {
            "text/plain": [
              "0.9423485763266133"
            ]
          },
          "metadata": {
            "tags": []
          },
          "execution_count": 13
        }
      ]
    },
    {
      "cell_type": "code",
      "metadata": {
        "id": "ixnaONaiB4RZ"
      },
      "source": [
        "#informação 1.B\n",
        "from pyspark.ml.classification import RandomForestClassifier\n",
        "\n",
        "rf = RandomForestClassifier(labelCol=\"label\", featuresCol=\"features\", numTrees=5)\n",
        "modeloRF = rf.fit(dfTreino)"
      ],
      "execution_count": null,
      "outputs": []
    },
    {
      "cell_type": "code",
      "metadata": {
        "id": "6Dn6BYwaB4RZ",
        "outputId": "63d9ca42-c4c9-4e97-b6c1-55d68c9d6d97"
      },
      "source": [
        "predicaoRF = modeloRF.transform(dfTeste)\n",
        "predicaoRF.select(func.col('prediction'), func.col('label'), func.col('id')).show(5)"
      ],
      "execution_count": null,
      "outputs": [
        {
          "output_type": "stream",
          "text": [
            "+----------+-----+---+\n",
            "|prediction|label| id|\n",
            "+----------+-----+---+\n",
            "|       0.0|  0.0|  0|\n",
            "|       0.0|  0.0|  1|\n",
            "|       0.0|  0.0|  2|\n",
            "|       0.0|  0.0|  3|\n",
            "|       0.0|  0.0|  4|\n",
            "+----------+-----+---+\n",
            "only showing top 5 rows\n",
            "\n"
          ],
          "name": "stdout"
        }
      ]
    },
    {
      "cell_type": "code",
      "metadata": {
        "id": "AKrGxXUEB4Ra",
        "outputId": "6fd5d2a0-6aed-42f3-c2ae-a342e7e06459"
      },
      "source": [
        "MulticlassClassificationEvaluator(labelCol='label', predictionCol='prediction')\\\n",
        "    .evaluate(predicaoRF)"
      ],
      "execution_count": null,
      "outputs": [
        {
          "output_type": "execute_result",
          "data": {
            "text/plain": [
              "0.9445431470178889"
            ]
          },
          "metadata": {
            "tags": []
          },
          "execution_count": 16
        }
      ]
    },
    {
      "cell_type": "code",
      "metadata": {
        "id": "Kn04TGu_B4Ra",
        "outputId": "02a555d8-538a-4e85-d2d6-87c28a441d74"
      },
      "source": [
        "#informação 1.C\n",
        "\n",
        "rfCem = RandomForestClassifier(labelCol=\"label\", featuresCol=\"features\", numTrees=100)\n",
        "modeloRFCEM = rfCem.fit(dfTreino)\n",
        "predicaoRFCEM = modeloRFCEM.transform(dfTeste)\n",
        "predicaoRFCEM.select(func.col('prediction'), func.col('label'), func.col('id')).show(5)"
      ],
      "execution_count": null,
      "outputs": [
        {
          "output_type": "stream",
          "text": [
            "+----------+-----+---+\n",
            "|prediction|label| id|\n",
            "+----------+-----+---+\n",
            "|       0.0|  0.0|  0|\n",
            "|       0.0|  0.0|  1|\n",
            "|       0.0|  0.0|  2|\n",
            "|       0.0|  0.0|  3|\n",
            "|       0.0|  0.0|  4|\n",
            "+----------+-----+---+\n",
            "only showing top 5 rows\n",
            "\n"
          ],
          "name": "stdout"
        }
      ]
    },
    {
      "cell_type": "code",
      "metadata": {
        "id": "CiSshmZkB4Ra",
        "outputId": "d6c10b4c-f3a5-4299-e8f6-157fbbbc6bb4"
      },
      "source": [
        "MulticlassClassificationEvaluator(labelCol='label', predictionCol='prediction')\\\n",
        "    .evaluate(predicaoRFCEM)"
      ],
      "execution_count": null,
      "outputs": [
        {
          "output_type": "execute_result",
          "data": {
            "text/plain": [
              "0.9465988646149552"
            ]
          },
          "metadata": {
            "tags": []
          },
          "execution_count": 18
        }
      ]
    },
    {
      "cell_type": "code",
      "metadata": {
        "id": "JcGYAkSRB4Ra"
      },
      "source": [
        "# Determine qual a quantidade de eventos Alerta (label = 1.0) \n",
        "# classificados erroneamente como outra classe (falso-negativo) para os classificadores"
      ],
      "execution_count": null,
      "outputs": []
    },
    {
      "cell_type": "code",
      "metadata": {
        "id": "FkHYMdJtB4Rb",
        "outputId": "57b4c085-07fa-462f-f022-fb680c45df7a"
      },
      "source": [
        "predicaoDT.select(func.col('label'), func.col('Classe')).distinct().show(5)"
      ],
      "execution_count": null,
      "outputs": [
        {
          "output_type": "stream",
          "text": [
            "+-----+--------+\n",
            "|label|  Classe|\n",
            "+-----+--------+\n",
            "|  3.0|  Quente|\n",
            "|  2.0|    Frio|\n",
            "|  0.0|Moderado|\n",
            "|  1.0|  Alerta|\n",
            "+-----+--------+\n",
            "\n"
          ],
          "name": "stdout"
        }
      ]
    },
    {
      "cell_type": "code",
      "metadata": {
        "id": "_sqTftdlB4Rb",
        "outputId": "b8a7bd70-1ccf-4025-eadb-ab4d03fb2567"
      },
      "source": [
        "#informação 2.A\n",
        "predicaoDT.printSchema()\n"
      ],
      "execution_count": null,
      "outputs": [
        {
          "output_type": "stream",
          "text": [
            "root\n",
            " |-- hora: double (nullable = true)\n",
            " |-- minuto: double (nullable = true)\n",
            " |-- temp_minima: double (nullable = true)\n",
            " |-- temp_maxima: double (nullable = true)\n",
            " |-- latitude_media: double (nullable = true)\n",
            " |-- longitude_media: double (nullable = true)\n",
            " |-- Classe: string (nullable = true)\n",
            " |-- id: long (nullable = false)\n",
            " |-- label: double (nullable = false)\n",
            " |-- features: vector (nullable = true)\n",
            " |-- rawPrediction: vector (nullable = true)\n",
            " |-- probability: vector (nullable = true)\n",
            " |-- prediction: double (nullable = false)\n",
            "\n"
          ],
          "name": "stdout"
        }
      ]
    },
    {
      "cell_type": "code",
      "metadata": {
        "id": "BLxSBrnVB4Rb",
        "outputId": "60b32f0c-51af-4467-c4cc-094776cbfa03"
      },
      "source": [
        "predicaoDT.filter(func.col('Classe') == 'Alerta')\\\n",
        "    .filter(func.col('prediction')!= func.col('label'))\\\n",
        "    .count() / predicaoDT.filter(func.col('Classe') == 'Alerta').count()"
      ],
      "execution_count": null,
      "outputs": [
        {
          "output_type": "execute_result",
          "data": {
            "text/plain": [
              "0.049216759715973765"
            ]
          },
          "metadata": {
            "tags": []
          },
          "execution_count": 22
        }
      ]
    },
    {
      "cell_type": "code",
      "metadata": {
        "id": "qHOUQmWmB4Rb"
      },
      "source": [
        ""
      ],
      "execution_count": null,
      "outputs": []
    },
    {
      "cell_type": "code",
      "metadata": {
        "id": "j5M45BCJB4Rc",
        "outputId": "84be54a8-597a-4b4f-aff0-00dbf92430fb"
      },
      "source": [
        "#informação 2.B\n",
        "\n",
        "predicaoRF.filter(func.col('Classe') == 'Alerta')\\\n",
        "    .filter(func.col('prediction')!= func.col('label'))\\\n",
        "    .count() / predicaoRF.filter(func.col('Classe') == 'Alerta').count()"
      ],
      "execution_count": null,
      "outputs": [
        {
          "output_type": "execute_result",
          "data": {
            "text/plain": [
              "0.018158165754241423"
            ]
          },
          "metadata": {
            "tags": []
          },
          "execution_count": 81
        }
      ]
    },
    {
      "cell_type": "code",
      "metadata": {
        "id": "-e0Ayy37B4Rc"
      },
      "source": [
        ""
      ],
      "execution_count": null,
      "outputs": []
    },
    {
      "cell_type": "code",
      "metadata": {
        "id": "v1Xof1HHB4Rc",
        "outputId": "bc83a9c9-6e2d-4dbb-f699-99ab51c55123"
      },
      "source": [
        "#informação 2.C\n",
        "\n",
        "\n",
        "predicaoRFCEM.filter(func.col('Classe') == 'Alerta')\\\n",
        "    .filter(func.col('prediction')!= func.col('label'))\\\n",
        "    .count() / predicaoDT.filter(func.col('Classe') == 'Alerta').count()"
      ],
      "execution_count": null,
      "outputs": [
        {
          "output_type": "execute_result",
          "data": {
            "text/plain": [
              "0.028619437367879016"
            ]
          },
          "metadata": {
            "tags": []
          },
          "execution_count": 24
        }
      ]
    },
    {
      "cell_type": "code",
      "metadata": {
        "id": "Y276lf2UB4Rc"
      },
      "source": [
        "# etermine qual a quantidade de eventos não Alerta (label = 0.0, ou label = 1.0, ou label = 2.0) \n",
        "# classificados erroneamente como classe Alerta (falso-positivo) para os classificadores"
      ],
      "execution_count": null,
      "outputs": []
    },
    {
      "cell_type": "code",
      "metadata": {
        "id": "ighGK0t3B4Rd",
        "outputId": "7700d57d-d476-4b6e-d592-3ef0716cd89a"
      },
      "source": [
        "#informação 3.A\n",
        "\n",
        "predicaoDT.filter(func.col('Classe') != 'Alerta')\\\n",
        "    .filter(func.col('prediction')== 1)\\\n",
        "    .count() / predicaoDT.filter(func.col('Classe') != 'Alerta').count()"
      ],
      "execution_count": null,
      "outputs": [
        {
          "output_type": "execute_result",
          "data": {
            "text/plain": [
              "0.02328319162851537"
            ]
          },
          "metadata": {
            "tags": []
          },
          "execution_count": 26
        }
      ]
    },
    {
      "cell_type": "code",
      "metadata": {
        "id": "RealYsJLB4Rd"
      },
      "source": [
        ""
      ],
      "execution_count": null,
      "outputs": []
    },
    {
      "cell_type": "code",
      "metadata": {
        "id": "dpJM-HRBB4Rd"
      },
      "source": [
        ""
      ],
      "execution_count": null,
      "outputs": []
    },
    {
      "cell_type": "code",
      "metadata": {
        "id": "Hk2QZCrwB4Rd",
        "outputId": "78b3e9c1-441a-4b4a-d3f6-0de143fb69f0"
      },
      "source": [
        "#informação 3.B\n",
        "\n",
        "predicaoRF.filter(func.col('Classe') != 'Alerta')\\\n",
        "    .filter(func.col('prediction')== 1)\\\n",
        "    .count() / predicaoDT.filter(func.col('Classe') != 'Alerta').count()"
      ],
      "execution_count": null,
      "outputs": [
        {
          "output_type": "execute_result",
          "data": {
            "text/plain": [
              "0.035099193372574666"
            ]
          },
          "metadata": {
            "tags": []
          },
          "execution_count": 27
        }
      ]
    },
    {
      "cell_type": "code",
      "metadata": {
        "id": "YG83AnQ6B4Rd"
      },
      "source": [
        ""
      ],
      "execution_count": null,
      "outputs": []
    },
    {
      "cell_type": "code",
      "metadata": {
        "id": "MPuLsuz0B4Rd",
        "outputId": "64c8aab4-2012-4239-b142-07c97abb3e01"
      },
      "source": [
        "#informação 3.C\n",
        "\n",
        "predicaoRFCEM.filter(func.col('Classe') != 'Alerta')\\\n",
        "    .filter(func.col('prediction')== 1)\\\n",
        "    .count() / predicaoDT.filter(func.col('Classe') != 'Alerta').count()"
      ],
      "execution_count": null,
      "outputs": [
        {
          "output_type": "execute_result",
          "data": {
            "text/plain": [
              "0.027294528013952473"
            ]
          },
          "metadata": {
            "tags": []
          },
          "execution_count": 28
        }
      ]
    },
    {
      "cell_type": "code",
      "metadata": {
        "id": "syJzu1e5B4Re",
        "outputId": "cc17fe38-f67f-4e54-847e-87a968b4bebf"
      },
      "source": [
        "#informação 4\n",
        "\n",
        "# Faça votação entre os classificadores da etapa 1.A, 1.B e 1.C para atribuir a classe do evento de acordo \n",
        "# com a maioria das classes entre os classificadores\n",
        "\n",
        "import pyspark.sql.functions as func\n",
        "from statistics import mode\n",
        "\n",
        "def pegaMaiorOcorrencia(x):\n",
        "    try:\n",
        "        return [x[0], mode(x[1])]\n",
        "    except:\n",
        "        return [x[0], x[2]]\n",
        "\n",
        "predicaoDT.select(func.col('prediction').alias('prediction_dt'),\n",
        "                  func.col('label'),\n",
        "                  func.col('id'))\\\n",
        "    .join(predicaoRF.select(func.col('prediction').alias('prediction_rf'),\n",
        "                  func.col('id')), ['id'])\\\n",
        "    .join(predicaoRFCEM.select(func.col('prediction').alias('prediction_rf_cem'),\n",
        "                  func.col('id')), ['id'])\\\n",
        "    .rdd\\\n",
        "    .map(lambda x: [x['label'], [x['prediction_dt'], x['prediction_rf'], x['prediction_rf_cem']]])\\\n",
        "    .map(lambda x: pegaMaiorOcorrencia(x))\\\n",
        "    .filter(lambda x: x[0] == x[1])\\\n",
        "    .count()"
      ],
      "execution_count": null,
      "outputs": [
        {
          "output_type": "execute_result",
          "data": {
            "text/plain": [
              "551745"
            ]
          },
          "metadata": {
            "tags": []
          },
          "execution_count": 29
        }
      ]
    },
    {
      "cell_type": "markdown",
      "metadata": {
        "id": "Sa9OPLUhB4Re"
      },
      "source": [
        "Considerando que voce possui apenas duas classes: Não Alerta e Alerta. Calcule a acurácia de classificação na base de testes para os seguintes classificadores:\n",
        "\n",
        "    Árvore de Decisão (from pyspark.ml.classification import DecisionTreeClassifier)\n",
        "    Random Forest com 20 arvores (from pyspark.ml.classification import RandomForestClassifier, e numTrees=20 no construtor do RandomForestClassifier)\n",
        "    Random Forest com 100 arvores (numTrees=100 no construtor do RandomForestClassifier)\n",
        "        Dicas: Para isto, você irá precisar manipular o dataframe para alterar os valores da coluna label, por exemplo através de uma UDF\n",
        "\n"
      ]
    },
    {
      "cell_type": "code",
      "metadata": {
        "id": "VtM3ZiRVB4Re"
      },
      "source": [
        "# cria nova coluna baseada no valor do label (alerta - mantem valor, nao alerta - outro valor em comum)"
      ],
      "execution_count": null,
      "outputs": []
    },
    {
      "cell_type": "code",
      "metadata": {
        "id": "0Glijq6XB4Re",
        "outputId": "7b0baecd-633b-4ebd-fdec-94bc85786f58"
      },
      "source": [
        "dfTeste5 = dfTeste\n",
        "dfTeste5.show(5)"
      ],
      "execution_count": null,
      "outputs": [
        {
          "output_type": "stream",
          "text": [
            "+---------+---------+-----------+-----------+--------------+---------------+--------+---+-----+--------------------+\n",
            "|     hora|   minuto|temp_minima|temp_maxima|latitude_media|longitude_media|  Classe| id|label|            features|\n",
            "+---------+---------+-----------+-----------+--------------+---------------+--------+---+-----+--------------------+\n",
            "|11.787212|29.005116|      1.123|     28.606|      34.56035|      136.21983|Moderado|  0|  0.0|[11.787212,29.005...|\n",
            "|11.482636| 29.84576|      1.038|  29.306004|      34.56078|      136.22015|Moderado|  1|  0.0|[11.482636,29.845...|\n",
            "|11.312064|29.751745|      1.123|  29.006002|      34.55864|      136.22047|Moderado|  2|  0.0|[11.312064,29.751...|\n",
            "|11.530982|29.505793|      1.404|  29.081003|     34.560654|      136.22006|Moderado|  3|  0.0|[11.530982,29.505...|\n",
            "|  11.4008|29.422289|      1.504|  29.181004|     34.559814|      136.22006|Moderado|  4|  0.0|[11.4008,29.42228...|\n",
            "+---------+---------+-----------+-----------+--------------+---------------+--------+---+-----+--------------------+\n",
            "only showing top 5 rows\n",
            "\n"
          ],
          "name": "stdout"
        }
      ]
    },
    {
      "cell_type": "code",
      "metadata": {
        "id": "Jn6U4y39B4Rf"
      },
      "source": [
        "def mudaLabel(x):\n",
        "    try:\n",
        "        if x == 1.0:\n",
        "            return x\n",
        "        else:\n",
        "            return 0.0\n",
        "    except:\n",
        "        pass "
      ],
      "execution_count": null,
      "outputs": []
    },
    {
      "cell_type": "code",
      "metadata": {
        "id": "v--u2QupB4Rf"
      },
      "source": [
        "from pyspark.sql.functions import udf\n",
        "from pyspark.sql.types import DoubleType\n",
        "from pyspark.sql.types import StringType\n",
        "\n",
        "udfMudaLabel = udf(lambda x: mudaLabel(x), DoubleType())"
      ],
      "execution_count": null,
      "outputs": []
    },
    {
      "cell_type": "code",
      "metadata": {
        "id": "_03qVbJDB4Rf"
      },
      "source": [
        "dfTeste5New = dfTeste5.withColumn('label', udfMudaLabel(func.col('label')))"
      ],
      "execution_count": null,
      "outputs": []
    },
    {
      "cell_type": "code",
      "metadata": {
        "id": "fns5m64dB4Rf",
        "outputId": "3f75828b-ce92-467e-f214-7204ef199648"
      },
      "source": [
        "dfTeste5New.show(5)"
      ],
      "execution_count": null,
      "outputs": [
        {
          "output_type": "stream",
          "text": [
            "+---------+---------+-----------+-----------+--------------+---------------+--------+---+-----+--------------------+\n",
            "|     hora|   minuto|temp_minima|temp_maxima|latitude_media|longitude_media|  Classe| id|label|            features|\n",
            "+---------+---------+-----------+-----------+--------------+---------------+--------+---+-----+--------------------+\n",
            "|11.787212|29.005116|      1.123|     28.606|      34.56035|      136.21983|Moderado|  0|  0.0|[11.787212,29.005...|\n",
            "|11.482636| 29.84576|      1.038|  29.306004|      34.56078|      136.22015|Moderado|  1|  0.0|[11.482636,29.845...|\n",
            "|11.312064|29.751745|      1.123|  29.006002|      34.55864|      136.22047|Moderado|  2|  0.0|[11.312064,29.751...|\n",
            "|11.530982|29.505793|      1.404|  29.081003|     34.560654|      136.22006|Moderado|  3|  0.0|[11.530982,29.505...|\n",
            "|  11.4008|29.422289|      1.504|  29.181004|     34.559814|      136.22006|Moderado|  4|  0.0|[11.4008,29.42228...|\n",
            "+---------+---------+-----------+-----------+--------------+---------------+--------+---+-----+--------------------+\n",
            "only showing top 5 rows\n",
            "\n"
          ],
          "name": "stdout"
        }
      ]
    },
    {
      "cell_type": "code",
      "metadata": {
        "id": "AgB5Rb-lB4Rf",
        "outputId": "bfc42e20-da90-4d13-a2ca-97ef02dca393"
      },
      "source": [
        "dfTreino5 = dfTreino\n",
        "\n",
        "dfTreino5New = dfTreino5.withColumn('label', udfMudaLabel(func.col('label')))\n",
        "dfTreino5New.show(5)"
      ],
      "execution_count": null,
      "outputs": [
        {
          "output_type": "stream",
          "text": [
            "+---------+---------+-----------+-----------+--------------+---------------+--------+-----+--------------------+\n",
            "|     hora|   minuto|temp_minima|temp_maxima|latitude_media|longitude_media|  Classe|label|            features|\n",
            "+---------+---------+-----------+-----------+--------------+---------------+--------+-----+--------------------+\n",
            "|11.312758|30.169239|     -1.859|     27.495|     36.169994|      139.23022|Moderado|  0.0|[11.312758,30.169...|\n",
            "|11.292323|29.638779|   8.542997|  36.177994|     31.349113|       73.50964|  Quente|  0.0|[11.292323,29.638...|\n",
            "|11.600304| 29.64275|     -1.861|  27.695002|      36.17158|      139.22937|Moderado|  0.0|[11.600304,29.642...|\n",
            "|11.462425|30.157314|   9.776998|  36.077995|     31.351593|        73.5104|  Quente|  0.0|[11.462425,30.157...|\n",
            "|11.735474|  29.9684|     -1.662|  27.695002|     36.169456|      139.23021|Moderado|  0.0|[11.735474,29.968...|\n",
            "+---------+---------+-----------+-----------+--------------+---------------+--------+-----+--------------------+\n",
            "only showing top 5 rows\n",
            "\n"
          ],
          "name": "stdout"
        }
      ]
    },
    {
      "cell_type": "code",
      "metadata": {
        "id": "prBeZhuMB4Rg",
        "outputId": "f988c415-0afa-4cc4-cf4f-9aa48cbbd806"
      },
      "source": [
        "#informação 5.A\n",
        "\n",
        "dt = DecisionTreeClassifier(labelCol='label', featuresCol='features')\n",
        "modeloDT5 = dt.fit(dfTreino5New)\n",
        "\n",
        "predicaoDT5 = modeloDT5.transform(dfTeste5New)\n",
        "predicaoDT5.select(func.col('prediction'), func.col('label'), func.col('id')).show(5)"
      ],
      "execution_count": null,
      "outputs": [
        {
          "output_type": "stream",
          "text": [
            "+----------+-----+---+\n",
            "|prediction|label| id|\n",
            "+----------+-----+---+\n",
            "|       0.0|  0.0|  0|\n",
            "|       0.0|  0.0|  1|\n",
            "|       0.0|  0.0|  2|\n",
            "|       0.0|  0.0|  3|\n",
            "|       0.0|  0.0|  4|\n",
            "+----------+-----+---+\n",
            "only showing top 5 rows\n",
            "\n"
          ],
          "name": "stdout"
        }
      ]
    },
    {
      "cell_type": "code",
      "metadata": {
        "id": "8HgWXftYB4Rg",
        "outputId": "2fbd02c8-ba24-49b1-93d2-f0c4cf2175cd"
      },
      "source": [
        "MulticlassClassificationEvaluator(labelCol='label', predictionCol='prediction')\\\n",
        "    .evaluate(predicaoDT5)"
      ],
      "execution_count": null,
      "outputs": [
        {
          "output_type": "execute_result",
          "data": {
            "text/plain": [
              "0.9695115565154596"
            ]
          },
          "metadata": {
            "tags": []
          },
          "execution_count": 70
        }
      ]
    },
    {
      "cell_type": "code",
      "metadata": {
        "id": "cfNCHxG9B4Rg"
      },
      "source": [
        ""
      ],
      "execution_count": null,
      "outputs": []
    },
    {
      "cell_type": "code",
      "metadata": {
        "id": "ZDbyjMp8B4Rg",
        "outputId": "3bd9e4fa-2e08-4c01-8037-d5a11278abca"
      },
      "source": [
        "#informação 5.B\n",
        "\n",
        "rf5 = RandomForestClassifier(labelCol=\"label\", featuresCol=\"features\", numTrees=20)\n",
        "modeloRF5 = rf.fit(dfTreino5New)\n",
        "\n",
        "predicaoRF5 = modeloRF5.transform(dfTeste5New)\n",
        "predicaoRF5.select(func.col('prediction'), func.col('label'), func.col('id')).show(5)"
      ],
      "execution_count": null,
      "outputs": [
        {
          "output_type": "stream",
          "text": [
            "+----------+-----+---+\n",
            "|prediction|label| id|\n",
            "+----------+-----+---+\n",
            "|       0.0|  0.0|  0|\n",
            "|       0.0|  0.0|  1|\n",
            "|       0.0|  0.0|  2|\n",
            "|       0.0|  0.0|  3|\n",
            "|       0.0|  0.0|  4|\n",
            "+----------+-----+---+\n",
            "only showing top 5 rows\n",
            "\n"
          ],
          "name": "stdout"
        }
      ]
    },
    {
      "cell_type": "code",
      "metadata": {
        "id": "ZE86rPLZB4Rh",
        "outputId": "ac33e0a2-faa5-4884-bf22-3c15a7915270"
      },
      "source": [
        "MulticlassClassificationEvaluator(labelCol='label', predictionCol='prediction')\\\n",
        "    .evaluate(predicaoRF5)"
      ],
      "execution_count": null,
      "outputs": [
        {
          "output_type": "execute_result",
          "data": {
            "text/plain": [
              "0.9738042164846625"
            ]
          },
          "metadata": {
            "tags": []
          },
          "execution_count": 74
        }
      ]
    },
    {
      "cell_type": "code",
      "metadata": {
        "id": "btAuzfz4B4Rh"
      },
      "source": [
        ""
      ],
      "execution_count": null,
      "outputs": []
    },
    {
      "cell_type": "code",
      "metadata": {
        "id": "63Fa7RR9B4Rh",
        "outputId": "a624c04f-2c89-4794-b185-d0a79acf621c"
      },
      "source": [
        "#informação 5.C\n",
        "\n",
        "rf5Cem = RandomForestClassifier(labelCol=\"label\", featuresCol=\"features\", numTrees=100)\n",
        "modeloRF5Cem = rf.fit(dfTreino5New)\n",
        "\n",
        "predicaoRF5Cem = modeloRF5Cem.transform(dfTeste5New)\n",
        "predicaoRF5Cem.select(func.col('prediction'), func.col('label'), func.col('id')).show(5)"
      ],
      "execution_count": null,
      "outputs": [
        {
          "output_type": "stream",
          "text": [
            "+----------+-----+---+\n",
            "|prediction|label| id|\n",
            "+----------+-----+---+\n",
            "|       0.0|  0.0|  0|\n",
            "|       0.0|  0.0|  1|\n",
            "|       0.0|  0.0|  2|\n",
            "|       0.0|  0.0|  3|\n",
            "|       0.0|  0.0|  4|\n",
            "+----------+-----+---+\n",
            "only showing top 5 rows\n",
            "\n"
          ],
          "name": "stdout"
        }
      ]
    },
    {
      "cell_type": "code",
      "metadata": {
        "id": "wy_jKieIB4Ri",
        "outputId": "268b1759-c714-4723-c66f-4210c2ebf384"
      },
      "source": [
        "MulticlassClassificationEvaluator(labelCol='label', predictionCol='prediction')\\\n",
        "    .evaluate(predicaoRF5Cem)"
      ],
      "execution_count": null,
      "outputs": [
        {
          "output_type": "execute_result",
          "data": {
            "text/plain": [
              "0.9738042164846625"
            ]
          },
          "metadata": {
            "tags": []
          },
          "execution_count": 77
        }
      ]
    },
    {
      "cell_type": "code",
      "metadata": {
        "id": "jgOEg3K_B4Ri"
      },
      "source": [
        ""
      ],
      "execution_count": null,
      "outputs": []
    },
    {
      "cell_type": "code",
      "metadata": {
        "id": "YUYF76sNB4Ri",
        "outputId": "a8a5dbdd-9f09-4780-8085-56193ea5ef43"
      },
      "source": [
        "#informação 6 - Determine qual a quantidade de eventos Alerta (label = 3.0) classificados erroneamente \n",
        "# como outra classe (falso-negativo) para os classificadores do item 5\n",
        "\n",
        "# para o Decision Tree\n",
        "\n",
        "predicaoDT5.filter(func.col('Classe') == 'Alerta')\\\n",
        "    .filter(func.col('prediction')!= func.col('label'))\\\n",
        "    .count() / predicaoDT5.filter(func.col('Classe') == 'Alerta').count()"
      ],
      "execution_count": null,
      "outputs": [
        {
          "output_type": "execute_result",
          "data": {
            "text/plain": [
              "0.0076968941406038265"
            ]
          },
          "metadata": {
            "tags": []
          },
          "execution_count": 78
        }
      ]
    },
    {
      "cell_type": "code",
      "metadata": {
        "id": "smjIH8oiB4Ri",
        "outputId": "3a7e60b5-f1b0-4620-80b9-d2b8e15c945a"
      },
      "source": [
        "# RF com 20 trees\n",
        "\n",
        "predicaoRF5.filter(func.col('Classe') == 'Alerta')\\\n",
        "    .filter(func.col('prediction')!= func.col('label'))\\\n",
        "    .count() / predicaoRF5.filter(func.col('Classe') == 'Alerta').count()"
      ],
      "execution_count": null,
      "outputs": [
        {
          "output_type": "execute_result",
          "data": {
            "text/plain": [
              "0.02932408260610331"
            ]
          },
          "metadata": {
            "tags": []
          },
          "execution_count": 80
        }
      ]
    },
    {
      "cell_type": "code",
      "metadata": {
        "id": "9kt4CrZvB4Rj",
        "outputId": "bad4ae5d-07a7-4b67-aa19-44bcec715214"
      },
      "source": [
        "# RF com 100 trees\n",
        "\n",
        "predicaoRF5Cem.filter(func.col('Classe') == 'Alerta')\\\n",
        "    .filter(func.col('prediction')!= func.col('label'))\\\n",
        "    .count() / predicaoRF5Cem.filter(func.col('Classe') == 'Alerta').count()"
      ],
      "execution_count": null,
      "outputs": [
        {
          "output_type": "execute_result",
          "data": {
            "text/plain": [
              "0.02932408260610331"
            ]
          },
          "metadata": {
            "tags": []
          },
          "execution_count": 82
        }
      ]
    },
    {
      "cell_type": "code",
      "metadata": {
        "id": "RuHtXDLkB4Rj"
      },
      "source": [
        ""
      ],
      "execution_count": null,
      "outputs": []
    },
    {
      "cell_type": "markdown",
      "metadata": {
        "id": "fQCH0SN5B4Rj"
      },
      "source": [
        "Faça busca de parametros dos classificadores desenvolvidos no item 5. Plote um gráfico relacionando a acurácia e os parametros otimizados\n",
        "\n",
        "    Árvore de Decisão varie o parametro maxDepth de 1 a 20\n",
        "    Random Forest varie o numTrees de 1 a 20\n",
        "\n"
      ]
    },
    {
      "cell_type": "code",
      "metadata": {
        "id": "N4lteEsxB4Rj"
      },
      "source": [
        "#informação 7.A"
      ],
      "execution_count": null,
      "outputs": []
    },
    {
      "cell_type": "code",
      "metadata": {
        "id": "Gxmenz3NB4Rj"
      },
      "source": [
        ""
      ],
      "execution_count": null,
      "outputs": []
    },
    {
      "cell_type": "code",
      "metadata": {
        "id": "WxKRYZijB4Rj"
      },
      "source": [
        "from matplotlib import pyplot as plt"
      ],
      "execution_count": null,
      "outputs": []
    },
    {
      "cell_type": "code",
      "metadata": {
        "id": "f5t-o3VKB4Rk",
        "outputId": "ca839fe9-b1aa-4e9d-d14c-32c347a8733e"
      },
      "source": [
        "i=1\n",
        "scores = []\n",
        "for i in range(1,21):\n",
        "\n",
        "    dt7 = DecisionTreeClassifier(labelCol='label', featuresCol='features', maxDepth = i)\n",
        "    modeloDT7 = dt7.fit(dfTreino5New)   \n",
        "    \n",
        "    predicaoDT7 = modeloDT7.transform(dfTeste5New)\n",
        "    predicaoDT7.select(func.col('prediction'), func.col('label'), func.col('id'))\n",
        "\n",
        "    scores.append(MulticlassClassificationEvaluator(labelCol='label', predictionCol='prediction')\\\n",
        "        .evaluate(predicaoDT7))\n",
        "    \n",
        "print(scores)\n",
        "    "
      ],
      "execution_count": null,
      "outputs": [
        {
          "output_type": "stream",
          "text": [
            "[0.9313564872814428, 0.9432642004223147, 0.9450938543272339, 0.9631640220132192, 0.9695115565154596, 0.977187733193144, 0.9771453074795837, 0.98199055432482, 0.9850643888574422, 0.9852976084884734, 0.985580553206779, 0.9847883543745637, 0.9853535378419981, 0.9862631789908329, 0.9859820088380762, 0.9856282709884323, 0.9856855832492134, 0.9857597659518407, 0.9858561557463477, 0.9859195457707305]\n"
          ],
          "name": "stdout"
        }
      ]
    },
    {
      "cell_type": "code",
      "metadata": {
        "id": "J609BsYZB4Rk",
        "outputId": "9c53c746-9806-4bb1-a6c5-3462a273953c"
      },
      "source": [
        "fig = plt.figure(figsize = (22,10))\n",
        "\n",
        "plt.plot(range(1,21), scores)\n",
        "plt.title('Decision Tree')\n",
        "plt.xlabel('Max Depth')\n",
        "plt.ylabel('Accuracy')\n",
        "plt.show()"
      ],
      "execution_count": null,
      "outputs": [
        {
          "output_type": "display_data",
          "data": {
            "image/png": "[encoded data removed]",
            "text/plain": [
              "<Figure size 1584x720 with 1 Axes>"
            ]
          },
          "metadata": {
            "tags": [],
            "needs_background": "light"
          }
        }
      ]
    },
    {
      "cell_type": "code",
      "metadata": {
        "id": "cxlMWV7oB4Rk"
      },
      "source": [
        ""
      ],
      "execution_count": null,
      "outputs": []
    },
    {
      "cell_type": "code",
      "metadata": {
        "scrolled": true,
        "id": "3rhWUYoVB4Rk",
        "outputId": "8b2de908-53eb-43f1-9623-b2d6fb1906b5"
      },
      "source": [
        "#informação 7.B\n",
        "\n",
        "j=1\n",
        "scoresRF = []\n",
        "for j in range(1,21):\n",
        "\n",
        "    rf7 = RandomForestClassifier(labelCol=\"label\", featuresCol=\"features\", numTrees=j)\n",
        "    modeloRF7 = rf7.fit(dfTreino5New)\n",
        "\n",
        "    predicaoRF7 = modeloRF7.transform(dfTeste5New)\n",
        "    predicaoRF7.select(func.col('prediction'), func.col('label'), func.col('id'))\n",
        "    \n",
        "    scoresRF.append(MulticlassClassificationEvaluator(labelCol='label', predictionCol='prediction')\\\n",
        "        .evaluate(predicaoRF7))\n",
        "    \n",
        "print(scoresRF)"
      ],
      "execution_count": null,
      "outputs": [
        {
          "output_type": "stream",
          "text": [
            "[0.9692679763278491, 0.96903319482855, 0.974881571639471, 0.9760658276675594, 0.9738042164846625, 0.9799161256279221, 0.9758701435513972, 0.9766543971569203, 0.9791802241593048, 0.9746703182034008, 0.9777596215710516, 0.9762313711799253, 0.9764419976091661, 0.9788354533340005, 0.976053629248788, 0.9768191639527417, 0.9795120327521865, 0.9768835459640817, 0.9749315755697536, 0.9780248219202068]\n"
          ],
          "name": "stdout"
        }
      ]
    },
    {
      "cell_type": "code",
      "metadata": {
        "id": "hL_PHdczB4Rq",
        "outputId": "62c3faa7-c520-4c90-a731-5c8ff00f3644"
      },
      "source": [
        "fig = plt.figure(figsize = (22,10))\n",
        "\n",
        "plt.plot(range(1,21), scoresRF)\n",
        "plt.title('Random Forest')\n",
        "plt.xlabel('Num Trees')\n",
        "plt.ylabel('Accuracy')\n",
        "plt.show()"
      ],
      "execution_count": null,
      "outputs": [
        {
          "output_type": "display_data",
          "data": {
            "image/png": "[encoded data removed]",
            "text/plain": [
              "<Figure size 1584x720 with 1 Axes>"
            ]
          },
          "metadata": {
            "tags": [],
            "needs_background": "light"
          }
        }
      ]
    },
    {
      "cell_type": "code",
      "metadata": {
        "id": "zktax-9dB4Rr"
      },
      "source": [
        ""
      ],
      "execution_count": null,
      "outputs": []
    }
  ]
}