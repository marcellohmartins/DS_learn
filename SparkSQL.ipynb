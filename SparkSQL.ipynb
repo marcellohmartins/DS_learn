{
  "nbformat": 4,
  "nbformat_minor": 0,
  "metadata": {
    "kernelspec": {
      "display_name": "Python 3",
      "language": "python",
      "name": "python3"
    },
    "language_info": {
      "codemirror_mode": {
        "name": "ipython",
        "version": 3
      },
      "file_extension": ".py",
      "mimetype": "text/x-python",
      "name": "python",
      "nbconvert_exporter": "python",
      "pygments_lexer": "ipython3",
      "version": "3.7.4"
    },
    "colab": {
      "name": "AtividadeSparkSQL.ipynb",
      "provenance": []
    }
  },
  "cells": [
    {
      "cell_type": "markdown",
      "metadata": {
        "id": "GMZQcwKvCYZq"
      },
      "source": [
        "# Atividade Spark SQL\n",
        "\n",
        "Considerando o dataset detalhado a seguir, extraia o conjunto de informações solicitadas.\n",
        "\n",
        "### Dataset dados da BOVESPA\n",
        "\n",
        "- Arquivo disponível em /home/dados/bovespa/bovespa.csv\n",
        "- Dados relativos a bovespa, a bolsa de valores no Brasil\n",
        "- ~1.3GB\n",
        "- 8.1M de instâncias\n",
        "\n",
        "\n",
        "| #  \t| Nome do campo                                                             \t| Descrição                                                                        \t|\n",
        "|----\t|---------------------------------------------------------------------------\t|----------------------------------------------------------------------------------\t|\n",
        "| 0  \t| RegisterType                                                             \t| Fixo '1'                                                                                 \t|\n",
        "| 1  \t| TradingDate                                                              \t| Data do pregão                                                                   \t|\n",
        "| 2  \t| BDICode                                                                  \t| Utilizado para classificar os papéis na emissão do boletim diário de informações \t|\n",
        "| 3  \t| NegociationCode                                                          \t| Codigo de negociação do papel                                                    \t|\n",
        "| 4  \t| MarketType                                                               \t| Cód. Do mercado em que o papel está cadastrado                                   \t|\n",
        "| 5  \t| TradeName                                                                \t| Nome resumido da empresa emissora do papel                                       \t|\n",
        "| 6  \t| Specification                                                             \t| Especificação do Papel                                                           \t|\n",
        "| 7  \t| ForwardMarketTermInDays                                               \t| Prazo em dias do mercado a termo                                                 \t|\n",
        "| 8  \t| Currency                                                                  \t| Moeda de referência                                                              \t|\n",
        "| 9  \t| OpeningPrice                                                             \t| Preço de abertura do papel no pregão                                             \t|\n",
        "| 10 \t| MaxPrice                                                                \t| Preço máximo do papel no pregão                                                  \t|\n",
        "| 11 \t| MinPrice                                                                \t| Preço mínimo do papel no pregão                                                  \t|\n",
        "| 12 \t| MeanPrice                                                                \t| Preço médio do papel no pregão                                                   \t|\n",
        "| 13 \t| LastTradePrice                                                          \t| Preço do último negócio do papel no pregão                                       \t|\n",
        "| 14 \t| BestPurshaseOrderPrice                                                 \t| Preço da melhor oferta de compra do papel no mercado                             \t|\n",
        "| 15 \t| BestPurshaseSalePrice                                                  \t| Preço da melhor oferta de venda do papel no mercado                              \t|\n",
        "| 16 \t| NumborOfTrades                                                          \t| Número de negócios efetuados com o papel no pregão                               \t|\n",
        "| 17 \t| NumberOfTradedStocks                                                   \t| Quantidade total de títulos negociados neste papel                               \t|\n",
        "| 18 \t| VolumeOfTradedStocks                                                   \t| Volume total de títulos negociados neste papel                                   \t|\n",
        "| 19 \t| PriceForOptionsMarketOrSecondaryTermMarket                         \t| Preço de exercício para o mercado de opções ou valor do contrato para o mercado  \t|\n",
        "| 20 \t| PriceCorrectionsForOptionsMarketOrSecondaryTermMarket             \t| Indicador de correção de preços de exercícios ou valores de contrato             \t|\n",
        "| 21 \t| DueDateForOptionsMarketOrSecondaryTermMarket                      \t| Data do vencimento para os mercados de opções                                    \t|\n",
        "| 22 \t| FactorOfPaperQuotatuion                                                \t| Fator de cotação do papel                                                        \t|\n",
        "| 23 \t| PointsInPriceForOptionsMarketReferencedInDollarOrSecondaryTerm \t| Preço de exercício em pontos para opções referenciadas em dólar                  \t|\n",
        "| 24 \t| ISINOrInternCode                                                       \t| Código do papel no sistema ISIN                                                  \t|\n",
        "| 25 \t| DistributionNumber                                                       \t| Número de distribuição do papel                                                  \t|\n",
        "\n",
        "Informações a serem extraídas:\n",
        "\n",
        "1. Quantidade de dias com operações da PETR4 (NegociationCode)\n",
        "2. Maior valor (MaxPrice) histórico por ação (NegociationCode)\n",
        "3. Maior valor (MaxPrice) histórico da PETR4 (NegociationCode)\n",
        "4. Dia ('TradingDate') com a maior quantidade de papeis (NegociationCode) operados\n",
        "5. Dia ('TradingDate') da semana com a maior quantidade de papeis (NegociationCode) operados\n",
        "6. Maior lucro histórico de um papel (NegociationCode) na bovespa (MaxPrice - OpeningPrice)\n",
        "7. Maior prejuizo histórico de um papel (NegociationCode) na bovespa (OpeningPrice - LastTradePrice)\n",
        "8. Moeda (Currency) com mais operações\n",
        "9. Papel (NegociationCode) operado em CZ (Currency) com maior quantidade de operações\n",
        "10. Papel (NegociationCode) operado em CZ (Currency) com maior valor médio das operações (MeanPrice)\n",
        "11. Media do preço médio (MeanPrice), mínimo (MinPrice) e máximo (MaxPrice) anual (TradingDate) das ações da PETR4 (NegociationCode)\n",
        "12. Preço médio (MeanPrice) anual (TradingDate) das ações da PETR4 (NegociationCode)\n",
        "13. Preço médio (MeanPrice) anual (TradingDate) das 10 ações (NegociationCode) com mais operações na bovespa\n",
        "14. Desvio Padrão anual do preço médio (MeanPrice) da ação da PETR4 (NegociationCode)\n",
        "15. Desvio Padrão anual do preço médio (MeanPrice) das 10 ações (NegociationCode) com mais operações na bovespa\n",
        "16. Preço médio (MeanPrice) anual (TradingDate) das ações (NegociationCode) com a maior quantidade de operações de acordo com a moeda (Currency)\n",
        "\n",
        "\n",
        "**Dicas:**\n",
        "- *Crie uma célula (Insert -> Insert Cell Below) para cada informação solicitada*\n",
        "- *A análise deve ser feita sobre os dados do HDFS*\n",
        "- *Inicialize o seu cluster executando o script em: Desktop/ambientes/spark/inicializar.sh*\n",
        "- *Acesse o seu cluster executando o script em: Desktop/ambientes/spark/abrir_navegador.sh*"
      ]
    },
    {
      "cell_type": "code",
      "metadata": {
        "id": "JvGaDMdHCYZy"
      },
      "source": [
        "import os\n",
        "os.environ['PYSPARK_PYTHON'] = '/usr/bin/python3'\n",
        "\n",
        "from pyspark.sql import SparkSession\n",
        "\n",
        "sc = SparkSession \\\n",
        "    .builder \\\n",
        "    .master('spark://spark-master:7077') \\\n",
        "    .config('spark.executor.memory', '1g') \\\n",
        "    .getOrCreate()"
      ],
      "execution_count": null,
      "outputs": []
    },
    {
      "cell_type": "code",
      "metadata": {
        "id": "3_D-iVmBCYZ4"
      },
      "source": [
        "df = sc.read \\\n",
        "    .option('delimiter', ',') \\\n",
        "    .option('header', 'true') \\\n",
        "    .option('inferschema', 'true') \\\n",
        "    .csv('hdfs://namenode:9000/bovespa.csv')"
      ],
      "execution_count": null,
      "outputs": []
    },
    {
      "cell_type": "code",
      "metadata": {
        "scrolled": true,
        "id": "RjZPrWy1CYZ8",
        "outputId": "72eb5118-c8eb-45fb-f1ad-13627869e1ba"
      },
      "source": [
        "df.printSchema()"
      ],
      "execution_count": null,
      "outputs": [
        {
          "output_type": "stream",
          "text": [
            "root\n",
            " |-- RegisterType: integer (nullable = true)\n",
            " |-- TradingDate: integer (nullable = true)\n",
            " |-- BDICode: double (nullable = true)\n",
            " |-- NegociationCode: string (nullable = true)\n",
            " |-- MarketType: integer (nullable = true)\n",
            " |-- TradeName: string (nullable = true)\n",
            " |-- Specification: string (nullable = true)\n",
            " |-- ForwardMarketTermInDays: string (nullable = true)\n",
            " |-- Currency: string (nullable = true)\n",
            " |-- OpeningPrice: double (nullable = true)\n",
            " |-- MaxPrice: double (nullable = true)\n",
            " |-- MinPrice: double (nullable = true)\n",
            " |-- MeanPrice: double (nullable = true)\n",
            " |-- LastTradePrice: double (nullable = true)\n",
            " |-- BestPurshaseOrderPrice: double (nullable = true)\n",
            " |-- BestPurshaseSalePrice: double (nullable = true)\n",
            " |-- NumborOfTrades: double (nullable = true)\n",
            " |-- NumberOfTradedStocks: double (nullable = true)\n",
            " |-- VolumeOfTradedStocks: double (nullable = true)\n",
            " |-- PriceForOptionsMarketOrSecondaryTermMarket: double (nullable = true)\n",
            " |-- PriceCorrectionsForOptionsMarketOrSecondaryTermMarket: double (nullable = true)\n",
            " |-- DueDateForOptionsMarketOrSecondaryTermMarket: double (nullable = true)\n",
            " |-- FactorOfPaperQuotatuion: double (nullable = true)\n",
            " |-- PointsInPriceForOptionsMarketReferencedInDollarOrSecondaryTerm: double (nullable = true)\n",
            " |-- ISINOrInternCode: string (nullable = true)\n",
            " |-- DistributionNumber: double (nullable = true)\n",
            "\n"
          ],
          "name": "stdout"
        }
      ]
    },
    {
      "cell_type": "code",
      "metadata": {
        "id": "va6RT5PHCYZ9",
        "outputId": "974c270f-d799-43c1-a1ca-cd819db952ed"
      },
      "source": [
        "import pyspark.sql.functions as func\n",
        "\n",
        "df.select(func.col('TradingDate')).show(5)"
      ],
      "execution_count": null,
      "outputs": [
        {
          "output_type": "stream",
          "text": [
            "+-----------+\n",
            "|TradingDate|\n",
            "+-----------+\n",
            "|   19860102|\n",
            "|   19860102|\n",
            "|   19860102|\n",
            "|   19860102|\n",
            "|   19860102|\n",
            "+-----------+\n",
            "only showing top 5 rows\n",
            "\n"
          ],
          "name": "stdout"
        }
      ]
    },
    {
      "cell_type": "code",
      "metadata": {
        "id": "5_MHdjeFCYZ-",
        "outputId": "e12ff456-998d-4890-8226-b1375cce6c5f"
      },
      "source": [
        "df.select(func.col('TradingDate'), func.col('NegociationCode'))\\\n",
        "    .filter((func.col('TradingDate')=='19860102') & (func.col('NegociationCode')=='ACE 2'))\\\n",
        "    .show(5)"
      ],
      "execution_count": null,
      "outputs": [
        {
          "output_type": "stream",
          "text": [
            "+-----------+---------------+\n",
            "|TradingDate|NegociationCode|\n",
            "+-----------+---------------+\n",
            "|   19860102|          ACE 2|\n",
            "+-----------+---------------+\n",
            "\n"
          ],
          "name": "stdout"
        }
      ]
    },
    {
      "cell_type": "code",
      "metadata": {
        "id": "sAgzrYSoCYZ-",
        "outputId": "03cf6372-45e4-46a7-daf1-0028755295ff"
      },
      "source": [
        "from pyspark.sql.functions import udf\n",
        "from pyspark.sql.types import StringType\n",
        "\n",
        "udfPegaAno = udf(lambda tradingDate: str(tradingDate)[0:4], StringType())\n",
        "\n",
        "df.select(func.col('TradingDate'))\\\n",
        "    .withColumn('ano', udfPegaAno(func.col('TradingDate')))\\\n",
        "    .orderBy(func.col('ano'), ascending=False)\\\n",
        "    .show(5)"
      ],
      "execution_count": null,
      "outputs": [
        {
          "output_type": "stream",
          "text": [
            "+-----------+----+\n",
            "|TradingDate| ano|\n",
            "+-----------+----+\n",
            "|   20190805|2019|\n",
            "|   20190805|2019|\n",
            "|   20190805|2019|\n",
            "|   20190805|2019|\n",
            "|   20190805|2019|\n",
            "+-----------+----+\n",
            "only showing top 5 rows\n",
            "\n"
          ],
          "name": "stdout"
        }
      ]
    },
    {
      "cell_type": "code",
      "metadata": {
        "id": "JDOJ6f6tCYZ-",
        "outputId": "06b050b3-76ff-4a5f-d673-cbfe8acf88a5"
      },
      "source": [
        "df.select(func.col('TradingDate'))\\\n",
        "    .withColumn('ano', udfPegaAno(func.col('TradingDate')))\\\n",
        "    .select(func.col('ano'))\\\n",
        "    .groupBy(func.col('ano'))\\\n",
        "    .agg(func.count(func.col('ano')).alias('quantidade'),\n",
        "        func.max(func.col('ano')).alias('ValorMaximo'),\n",
        "        func.stddev(func.col('ano')).alias('desvpad'))\\\n",
        "    .show(5)"
      ],
      "execution_count": null,
      "outputs": [
        {
          "output_type": "stream",
          "text": [
            "+----+----------+-----------+--------------------+\n",
            "| ano|quantidade|ValorMaximo|             desvpad|\n",
            "+----+----------+-----------+--------------------+\n",
            "|1987|    130665|       1987|                 0.0|\n",
            "|2016|    466734|       2016|                 0.0|\n",
            "|2012|    330633|       2012|                 0.0|\n",
            "|1988|    167674|       1988|                 0.0|\n",
            "|2019|    779229|       2019|8.485565258688201...|\n",
            "+----+----------+-----------+--------------------+\n",
            "only showing top 5 rows\n",
            "\n"
          ],
          "name": "stdout"
        }
      ]
    },
    {
      "cell_type": "code",
      "metadata": {
        "id": "Eqdub25HCYZ_"
      },
      "source": [
        "resultado = df.select(func.col('TradingDate'))\\\n",
        "    .withColumn('ano', udfPegaAno(func.col('TradingDate')))\\\n",
        "    .select(func.col('ano'))\\\n",
        "    .groupBy(func.col('ano'))\\\n",
        "    .agg(func.count(func.col('ano')).alias('quantidade'))\\\n",
        "    .orderBy(func.col('ano'))\\\n",
        "    .collect()"
      ],
      "execution_count": null,
      "outputs": []
    },
    {
      "cell_type": "code",
      "metadata": {
        "id": "--HaqW23CYZ_"
      },
      "source": [
        "listaAno = [x['ano'] for x in resultado]\n",
        "listaQT = [x['quantidade'] for x in resultado]"
      ],
      "execution_count": null,
      "outputs": []
    },
    {
      "cell_type": "code",
      "metadata": {
        "id": "habzPFPHCYZ_",
        "outputId": "3f4ffa3d-3385-4d3c-b7ba-d4e07b308201"
      },
      "source": [
        "import matplotlib.pyplot as plt\n",
        "\n",
        "plt.plot(listaAno, listaQT)"
      ],
      "execution_count": null,
      "outputs": [
        {
          "output_type": "execute_result",
          "data": {
            "text/plain": [
              "[<matplotlib.lines.Line2D at 0x7f9d156b6e10>]"
            ]
          },
          "metadata": {
            "tags": []
          },
          "execution_count": 10
        },
        {
          "output_type": "display_data",
          "data": {
            "image/png": "[encoded data removed]",
            "text/plain": [
              "<Figure size 432x288 with 1 Axes>"
            ]
          },
          "metadata": {
            "tags": [],
            "needs_background": "light"
          }
        }
      ]
    },
    {
      "cell_type": "code",
      "metadata": {
        "id": "r1mTDci6CYaA",
        "outputId": "4c07395a-6759-4404-bc19-3b497e0ef5b4"
      },
      "source": [
        "df.createOrReplaceTempView('tabela')\n",
        "sc.sql('select TradingDate from tabela').show(5)"
      ],
      "execution_count": null,
      "outputs": [
        {
          "output_type": "stream",
          "text": [
            "+-----------+\n",
            "|TradingDate|\n",
            "+-----------+\n",
            "|   19860102|\n",
            "|   19860102|\n",
            "|   19860102|\n",
            "|   19860102|\n",
            "|   19860102|\n",
            "+-----------+\n",
            "only showing top 5 rows\n",
            "\n"
          ],
          "name": "stdout"
        }
      ]
    },
    {
      "cell_type": "code",
      "metadata": {
        "id": "DeIhTao7CYaA"
      },
      "source": [
        ""
      ],
      "execution_count": null,
      "outputs": []
    },
    {
      "cell_type": "code",
      "metadata": {
        "id": "4Fyns_5wCYaA"
      },
      "source": [
        ""
      ],
      "execution_count": null,
      "outputs": []
    },
    {
      "cell_type": "code",
      "metadata": {
        "id": "wpLZHyorCYaA",
        "outputId": "d27ecf83-4a03-4712-a660-45ff131829f9"
      },
      "source": [
        "#informacao 1\n",
        "\n",
        "df.select(func.col('NegociationCode'))\\\n",
        "    .filter(func.col('NegociationCode')=='PETR4')\\\n",
        "    .count()"
      ],
      "execution_count": null,
      "outputs": [
        {
          "output_type": "execute_result",
          "data": {
            "text/plain": [
              "5391"
            ]
          },
          "metadata": {
            "tags": []
          },
          "execution_count": 12
        }
      ]
    },
    {
      "cell_type": "code",
      "metadata": {
        "id": "GyrsKcuaCYaB",
        "outputId": "0f1fadb2-a5e6-4c5b-f9e8-377746a0774c"
      },
      "source": [
        "#informacao 2\n",
        "\n",
        "df.select(func.col('NegociationCode'), func.col('MaxPrice'))\\\n",
        "    .groupBy(func.col('NegociationCode'))\\\n",
        "    .agg(func.max(func.col('MaxPrice')).alias('ValorMaximo'))\\\n",
        "    .orderBy(func.col('ValorMaximo'), ascending=False)\\\n",
        "    .show(5)"
      ],
      "execution_count": null,
      "outputs": [
        {
          "output_type": "stream",
          "text": [
            "+---------------+---------------+\n",
            "|NegociationCode|    ValorMaximo|\n",
            "+---------------+---------------+\n",
            "|          NCT 5|  2.74484259E10|\n",
            "|          MBA 5|1.2408903293E10|\n",
            "|          BMG 3|          3.5E9|\n",
            "|          BMG 2|          3.5E9|\n",
            "|          BMG 4|          3.5E9|\n",
            "+---------------+---------------+\n",
            "only showing top 5 rows\n",
            "\n"
          ],
          "name": "stdout"
        }
      ]
    },
    {
      "cell_type": "code",
      "metadata": {
        "id": "sOJT45oxCYaB",
        "outputId": "e6ff2f6e-71d8-4a22-f2e5-616ebe150280"
      },
      "source": [
        "#informacao 3\n",
        "\n",
        "df.select(func.col('NegociationCode'), func.col('MaxPrice'))\\\n",
        "    .filter(func.col('NegociationCode')=='PETR4')\\\n",
        "    .groupBy(func.col('NegociationCode'))\\\n",
        "    .agg(func.max(func.col('MaxPrice')).alias('ValorMaximo'))\\\n",
        "    .show(5)"
      ],
      "execution_count": null,
      "outputs": [
        {
          "output_type": "stream",
          "text": [
            "+---------------+-----------+\n",
            "|NegociationCode|ValorMaximo|\n",
            "+---------------+-----------+\n",
            "|          PETR4|    52100.0|\n",
            "+---------------+-----------+\n",
            "\n"
          ],
          "name": "stdout"
        }
      ]
    },
    {
      "cell_type": "code",
      "metadata": {
        "id": "bT74boOgCYaC",
        "outputId": "401c6836-bbf9-4489-80a9-c30ab7666872"
      },
      "source": [
        "#informacao 4 - Dia ('TradingDate') com a maior quantidade de papeis (NegociationCode) operados\n",
        "\n",
        "df.select(func.col('TradingDate'), func.col('NegociationCode'))\\\n",
        "    .groupBy(func.col('TradingDate'))\\\n",
        "    .agg(func.count(func.col('NegociationCode')).alias('papeis'))\\\n",
        "    .orderBy(func.col('papeis'), ascending=False)\\\n",
        "    .show(1)\n"
      ],
      "execution_count": null,
      "outputs": [
        {
          "output_type": "stream",
          "text": [
            "+-----------+------+\n",
            "|TradingDate|papeis|\n",
            "+-----------+------+\n",
            "|   20191216|  4652|\n",
            "+-----------+------+\n",
            "only showing top 1 row\n",
            "\n"
          ],
          "name": "stdout"
        }
      ]
    },
    {
      "cell_type": "code",
      "metadata": {
        "id": "accOxw0aCYaC"
      },
      "source": [
        "from datetime import datetime\n",
        "\n",
        "udfDiaSemana = udf(lambda x: datetime.strptime(str(x), '%Y%m%d').isocalendar()[2], StringType())\n"
      ],
      "execution_count": null,
      "outputs": []
    },
    {
      "cell_type": "code",
      "metadata": {
        "id": "08k51_mhCYaC",
        "outputId": "cc253e2a-a48a-4071-95e5-1942bf533e3c"
      },
      "source": [
        "#informacao 5 - Dia ('TradingDate') da semana com a maior quantidade de papeis (NegociationCode) operados\n",
        "df.select(func.col('TradingDate'))\\\n",
        "    .withColumn('weekDay', udfDiaSemana(func.col('TradingDate')))\\\n",
        "    .select(func.col('weekDay'))\\\n",
        "    .groupBy(func.col('weekDay'))\\\n",
        "    .agg(func.count(func.col('weekDay')).alias('papeisOperados'))\\\n",
        "    .orderBy(func.col('papeisOperados'), ascending=False)\\\n",
        "    .show(7)"
      ],
      "execution_count": null,
      "outputs": [
        {
          "output_type": "stream",
          "text": [
            "+-------+--------------+\n",
            "|weekDay|papeisOperados|\n",
            "+-------+--------------+\n",
            "|      3|       1688444|\n",
            "|      1|       1626494|\n",
            "|      2|       1613747|\n",
            "|      5|       1599650|\n",
            "|      4|       1597353|\n",
            "|      6|             3|\n",
            "+-------+--------------+\n",
            "\n"
          ],
          "name": "stdout"
        }
      ]
    },
    {
      "cell_type": "code",
      "metadata": {
        "id": "C3eeENC2CYaD",
        "outputId": "015e5702-c516-4b4e-8e16-29d09c521506"
      },
      "source": [
        "#informacao 6 - Maior lucro histórico de um papel (NegociationCode) na bovespa (MaxPrice - OpeningPrice)\n",
        "\n",
        "udfLucro = udf(lambda maxPrice, openingPrice: maxPrice - openingPrice)\n",
        "\n",
        "\n",
        "df.select(func.col('NegociationCode'), func.col('MaxPrice'), func.col('OpeningPrice'))\\\n",
        "    .withColumn('Lucro', udfLucro(func.col('MaxPrice'), func.col('OpeningPrice')))\\\n",
        "    .orderBy(func.col('Lucro'), ascending=False)\\\n",
        "    .show(1)"
      ],
      "execution_count": null,
      "outputs": [
        {
          "output_type": "stream",
          "text": [
            "+---------------+--------+------------+---------+\n",
            "|NegociationCode|MaxPrice|OpeningPrice|    Lucro|\n",
            "+---------------+--------+------------+---------+\n",
            "|          BDL 4|   3.1E8|3.00000001E8|9999999.0|\n",
            "+---------------+--------+------------+---------+\n",
            "only showing top 1 row\n",
            "\n"
          ],
          "name": "stdout"
        }
      ]
    },
    {
      "cell_type": "code",
      "metadata": {
        "id": "_57m_6POCYaD"
      },
      "source": [
        ""
      ],
      "execution_count": null,
      "outputs": []
    },
    {
      "cell_type": "code",
      "metadata": {
        "id": "POyQLIUvCYaD",
        "outputId": "4d92062e-655b-4f07-d752-e5b2b4f61462"
      },
      "source": [
        "#informacao 7 - Maior prejuizo histórico de um papel (NegociationCode) na bovespa (OpeningPrice - LastTradePrice)\n",
        "\n",
        "udfPrejuizo = udf(lambda openingPrice, LastTradePrice: openingPrice - LastTradePrice)\n",
        "\n",
        "\n",
        "df.select(func.col('NegociationCode'), func.col('OpeningPrice'), func.col('LastTradePrice'))\\\n",
        "    .withColumn('Preju', udfPrejuizo(func.col('OpeningPrice'), func.col('LastTradePrice')))\\\n",
        "    .orderBy(func.col('Preju'), ascending=False)\\\n",
        "    .show(1)"
      ],
      "execution_count": null,
      "outputs": [
        {
          "output_type": "stream",
          "text": [
            "+---------------+------------+--------------+---------+\n",
            "|NegociationCode|OpeningPrice|LastTradePrice|    Preju|\n",
            "+---------------+------------+--------------+---------+\n",
            "|          BDL 4|       1.9E8|  1.80000001E8|9999999.0|\n",
            "+---------------+------------+--------------+---------+\n",
            "only showing top 1 row\n",
            "\n"
          ],
          "name": "stdout"
        }
      ]
    },
    {
      "cell_type": "code",
      "metadata": {
        "id": "AK92NSkyCYaD",
        "outputId": "e9cfbd7d-ddd0-44e8-8753-686ade0e3705"
      },
      "source": [
        "#informacao 8 - Moeda (Currency) com mais operações\n",
        "\n",
        "df.select(func.col('Currency'))\\\n",
        "    .groupBy(func.col('Currency'))\\\n",
        "    .agg(func.count(func.col('Currency')).alias('Moeda'))\\\n",
        "    .orderBy(func.col('Currency'), ascending=False)\\\n",
        "    .show(1)\n"
      ],
      "execution_count": null,
      "outputs": [
        {
          "output_type": "stream",
          "text": [
            "+--------+-------+\n",
            "|Currency|  Moeda|\n",
            "+--------+-------+\n",
            "|      R$|6995662|\n",
            "+--------+-------+\n",
            "only showing top 1 row\n",
            "\n"
          ],
          "name": "stdout"
        }
      ]
    },
    {
      "cell_type": "code",
      "metadata": {
        "id": "YJ8sndazCYaE",
        "outputId": "d26cc7fb-fb0d-4364-90a1-8d16b77637b8"
      },
      "source": [
        "#informacao 9 - Papel (NegociationCode) operado em CZ (Currency) com maior quantidade de operações\n",
        "\n",
        "df.select(func.col('NegociationCode'), func.col('Currency'))\\\n",
        "    .filter(func.col('Currency')=='CZ$')\\\n",
        "    .groupBy(func.col('NegociationCode'))\\\n",
        "    .agg(func.count(func.col('NegociationCode')).alias('Total'))\\\n",
        "    .orderBy(func.col('Total'), ascending=False)\\\n",
        "    .show(1)\n"
      ],
      "execution_count": null,
      "outputs": [
        {
          "output_type": "stream",
          "text": [
            "+---------------+-----+\n",
            "|NegociationCode|Total|\n",
            "+---------------+-----+\n",
            "|          PMA 2| 2002|\n",
            "+---------------+-----+\n",
            "only showing top 1 row\n",
            "\n"
          ],
          "name": "stdout"
        }
      ]
    },
    {
      "cell_type": "code",
      "metadata": {
        "id": "gOUCnjGBCYaE",
        "outputId": "7332f0dc-cf7c-4e1b-f2e5-867400916287"
      },
      "source": [
        "#informacao 10 - Papel (NegociationCode) operado em CZ (Currency) com maior valor médio das operações (MeanPrice)\n",
        "\n",
        "df.select(func.col('NegociationCode'), func.col('Currency'), func.col('MeanPrice'))\\\n",
        "    .filter(func.col('Currency')=='CZ$')\\\n",
        "    .groupBy(func.col('NegociationCode'))\\\n",
        "    .agg(func.max(func.col('MeanPrice')).alias('Media'))\\\n",
        "    .orderBy(func.col('Media'), ascending=False)\\\n",
        "    .show(5)"
      ],
      "execution_count": null,
      "outputs": [
        {
          "output_type": "stream",
          "text": [
            "+---------------+---------+\n",
            "|NegociationCode|    Media|\n",
            "+---------------+---------+\n",
            "|          TLS 6| 3.7975E7|\n",
            "|          ARN 2|8000000.0|\n",
            "|          LOB 2|8000000.0|\n",
            "|          CCC 2|7000000.0|\n",
            "|          RHE 4|6902439.0|\n",
            "+---------------+---------+\n",
            "only showing top 5 rows\n",
            "\n"
          ],
          "name": "stdout"
        }
      ]
    },
    {
      "cell_type": "code",
      "metadata": {
        "id": "9BPPI-7OCYaE",
        "outputId": "a2b41d2c-9040-4408-b313-8ff02a133def"
      },
      "source": [
        "#informacao 11 - Media do preço médio (MeanPrice), mínimo (MinPrice) e máximo (MaxPrice) \n",
        "#anual (TradingDate) das ações da PETR4 (NegociationCode)\n",
        "\n",
        "df.select(func.col('NegociationCode'), func.col('MeanPrice'), func.col('MinPrice'), func.col('MaxPrice'), func.col('TradingDate'))\\\n",
        "    .filter(func.col('NegociationCode')=='PETR4')\\\n",
        "    .withColumn('ano', udfPegaAno(func.col('TradingDate')))\\\n",
        "    .groupBy(func.col('Ano'))\\\n",
        "    .agg(func.mean(func.col('MeanPrice')).alias('MediaAno'),\n",
        "        func.mean(func.col('MinPrice')).alias('MinAno'),\n",
        "        func.mean(func.col('MaxPrice')).alias('MaxAno'))\\\n",
        "    .orderBy(func.col('Ano'), ascending=False)\\\n",
        "    .show(5)\n",
        "\n"
      ],
      "execution_count": null,
      "outputs": [
        {
          "output_type": "stream",
          "text": [
            "+----+------------------+------------------+------------------+\n",
            "| Ano|          MediaAno|            MinAno|            MaxAno|\n",
            "+----+------------------+------------------+------------------+\n",
            "|2019|            2724.5|2693.6169354838707|2755.3669354838707|\n",
            "|2018|2102.4489795918366| 2065.718367346939| 2140.804081632653|\n",
            "|2017| 1459.060975609756|1441.2032520325204|1477.7642276422764|\n",
            "|2016|1077.4939759036145|1054.2610441767067| 1101.140562248996|\n",
            "|2015| 980.4349593495934| 957.8373983739838| 1004.719512195122|\n",
            "+----+------------------+------------------+------------------+\n",
            "only showing top 5 rows\n",
            "\n"
          ],
          "name": "stdout"
        }
      ]
    },
    {
      "cell_type": "code",
      "metadata": {
        "id": "E_hHTtLMCYaF",
        "outputId": "1b202ba1-863d-402d-f8d0-201379423c8e"
      },
      "source": [
        "#informacao 12\n",
        "\n",
        "df.select(func.col('NegociationCode'), func.col('MeanPrice'), func.col('TradingDate'))\\\n",
        "    .filter(func.col('NegociationCode')=='PETR4')\\\n",
        "    .withColumn('ano', udfPegaAno(func.col('TradingDate')))\\\n",
        "    .groupBy(func.col('Ano'))\\\n",
        "    .agg(func.mean(func.col('MeanPrice')).alias('MediaAno'))\\\n",
        "    .orderBy(func.col('Ano'), ascending=False)\\\n",
        "    .show(5)"
      ],
      "execution_count": null,
      "outputs": [
        {
          "output_type": "stream",
          "text": [
            "+----+------------------+\n",
            "| Ano|          MediaAno|\n",
            "+----+------------------+\n",
            "|2019|            2724.5|\n",
            "|2018|2102.4489795918366|\n",
            "|2017| 1459.060975609756|\n",
            "|2016|1077.4939759036145|\n",
            "|2015| 980.4349593495934|\n",
            "+----+------------------+\n",
            "only showing top 5 rows\n",
            "\n"
          ],
          "name": "stdout"
        }
      ]
    },
    {
      "cell_type": "code",
      "metadata": {
        "id": "32Zw-EAlCYaF"
      },
      "source": [
        ""
      ],
      "execution_count": null,
      "outputs": []
    },
    {
      "cell_type": "code",
      "metadata": {
        "id": "k64XfqdCCYaG"
      },
      "source": [
        "#informacao 13 - Preço médio (MeanPrice) anual (TradingDate) das 10 ações (NegociationCode) com \n",
        "#mais operações na bovespa\n",
        "resultadoTop10 = df.select(func.col('NegociationCode'))\\\n",
        "    .groupBy(func.col('NegociationCode'))\\\n",
        "    .count()\\\n",
        "    .orderBy(func.col('count'), ascending = False)\\\n",
        "    .take(10)\n"
      ],
      "execution_count": null,
      "outputs": []
    },
    {
      "cell_type": "code",
      "metadata": {
        "id": "ezWs0Pi1CYaH",
        "outputId": "aa672994-f299-4f76-df2c-e26d97c7a117"
      },
      "source": [
        "papelTop10 = [x['NegociationCode'] for x in resultadoTop10]\n",
        "papelTop10"
      ],
      "execution_count": null,
      "outputs": [
        {
          "output_type": "execute_result",
          "data": {
            "text/plain": [
              "['PETR4T',\n",
              " 'VALE5T',\n",
              " 'USIM5T',\n",
              " 'BBAS3T',\n",
              " 'CSNA3T',\n",
              " 'GGBR4T',\n",
              " 'BBDC4T',\n",
              " 'ITSA4T',\n",
              " 'CMIG4T',\n",
              " 'BRKM5T']"
            ]
          },
          "metadata": {
            "tags": []
          },
          "execution_count": 45
        }
      ]
    },
    {
      "cell_type": "code",
      "metadata": {
        "id": "KEf_PAWZCYaI",
        "outputId": "cf3452d2-6cc4-4081-842c-7571bcc8de6d"
      },
      "source": [
        "df.filter(df.NegociationCode.isin(papelTop10))\\\n",
        "    .select(func.col('NegociationCode'), func.col('TradingDate'), func.col('MeanPrice'))\\\n",
        "    .withColumn('ano', udfPegaAno(func.col('TradingDate')))\\\n",
        "    .groupBy(func.col('NegociationCode'), func.col('ano'))\\\n",
        "    .agg(func.mean(func.col('MeanPrice')).alias('precoMedio'))\\\n",
        "    .show(10)"
      ],
      "execution_count": null,
      "outputs": [
        {
          "output_type": "stream",
          "text": [
            "+---------------+----+------------------+\n",
            "|NegociationCode| ano|        precoMedio|\n",
            "+---------------+----+------------------+\n",
            "|         PETR4T|2011| 2456.218079493493|\n",
            "|         BBAS3T|2002|1063.5572033898304|\n",
            "|         PETR4T|2019| 2763.943482224248|\n",
            "|         USIM5T|2012|1008.1478809738503|\n",
            "|         BBDC4T|2017|3229.6673684210527|\n",
            "|         USIM5T|2013|1034.8437025796661|\n",
            "|         VALE5T|1999|3489.3505154639174|\n",
            "|         USIM5T|2011| 1509.077168367347|\n",
            "|         USIM5T|2001| 657.5886214442013|\n",
            "|         ITSA4T|2015| 842.9115044247787|\n",
            "+---------------+----+------------------+\n",
            "only showing top 10 rows\n",
            "\n"
          ],
          "name": "stdout"
        }
      ]
    },
    {
      "cell_type": "code",
      "metadata": {
        "id": "jRFbxq-OCYaK",
        "outputId": "0c255c56-ccb8-40cf-caca-a68fa5c6e035"
      },
      "source": [
        "#informacao 14\n",
        "\n",
        "df.select(func.col('NegociationCode'), func.col('MeanPrice'), func.col('TradingDate'))\\\n",
        "    .filter(func.col('NegociationCode')=='PETR4')\\\n",
        "    .withColumn('ano', udfPegaAno(func.col('TradingDate')))\\\n",
        "    .groupBy(func.col('Ano'))\\\n",
        "    .agg(func.stddev(func.col('MeanPrice')).alias('stdDevAno'))\\\n",
        "    .orderBy(func.col('Ano'), ascending=False)\\\n",
        "    .show(5)\n"
      ],
      "execution_count": null,
      "outputs": [
        {
          "output_type": "stream",
          "text": [
            "+----+------------------+\n",
            "| Ano|         stdDevAno|\n",
            "+----+------------------+\n",
            "|2019|164.42760488118657|\n",
            "|2018|322.32991837509013|\n",
            "|2017|131.33322761191312|\n",
            "|2016|379.52406656318993|\n",
            "|2015|212.59195810379663|\n",
            "+----+------------------+\n",
            "only showing top 5 rows\n",
            "\n"
          ],
          "name": "stdout"
        }
      ]
    },
    {
      "cell_type": "code",
      "metadata": {
        "id": "L27VeTCfCYaK",
        "outputId": "553f282a-be9f-41b9-95e6-41d8a4f2487b"
      },
      "source": [
        "#informacao 15 - Desvio Padrão anual do preço médio (MeanPrice) das 10 ações (NegociationCode) \n",
        "#com mais operações na bovespa\n",
        "\n",
        "df.filter(df.NegociationCode.isin(papelTop10))\\\n",
        "    .select(func.col('NegociationCode'), func.col('TradingDate'), func.col('MeanPrice'))\\\n",
        "    .withColumn('ano', udfPegaAno(func.col('TradingDate')))\\\n",
        "    .groupBy(func.col('NegociationCode'), func.col('ano'))\\\n",
        "    .agg(func.stddev(func.col('MeanPrice')).alias('stdDevPrice'))\\\n",
        "    .show(10)"
      ],
      "execution_count": null,
      "outputs": [
        {
          "output_type": "stream",
          "text": [
            "+---------------+----+------------------+\n",
            "|NegociationCode| ano|       stdDevPrice|\n",
            "+---------------+----+------------------+\n",
            "|         BBAS3T|2002|149.92180874645916|\n",
            "|         PETR4T|2011|316.14847592316704|\n",
            "|         PETR4T|2019|176.76398173897732|\n",
            "|         USIM5T|2012| 215.1627621419734|\n",
            "|         BBDC4T|2017| 269.9457573432429|\n",
            "|         USIM5T|2013|170.26127294809388|\n",
            "|         VALE5T|1999| 848.2025608263865|\n",
            "|         USIM5T|2011|364.23170677984314|\n",
            "|         USIM5T|2001|191.06973020358078|\n",
            "|         ITSA4T|2015|111.20937042147659|\n",
            "+---------------+----+------------------+\n",
            "only showing top 10 rows\n",
            "\n"
          ],
          "name": "stdout"
        }
      ]
    },
    {
      "cell_type": "code",
      "metadata": {
        "id": "m4sdHljSCYaL",
        "outputId": "a04745ec-c913-487b-93fd-f3b7c651463a"
      },
      "source": [
        "#informacao 16 - Preço médio (MeanPrice) anual (TradingDate) das ações (NegociationCode) \n",
        "# com a maior quantidade de operações de acordo com a moeda (Currency)"
      ],
      "execution_count": null,
      "outputs": [
        {
          "output_type": "stream",
          "text": [
            "+---------------+--------+-----------+\n",
            "|NegociationCode|Currency|negociacoes|\n",
            "+---------------+--------+-----------+\n",
            "|          BNA 4|     CR$|       1633|\n",
            "|          VGA 4|     CR$|       1179|\n",
            "|         BTA 11|     CR$|         34|\n",
            "|          MAS 1|     CR$|         15|\n",
            "|          ALT 4|     CR$|        227|\n",
            "|         TRB 10|     CR$|         33|\n",
            "|          PDG 8|     CZ$|         46|\n",
            "|          LIX 7|     CZ$|        411|\n",
            "|          RPA 8|     CZ$|        248|\n",
            "|          AGG 1|     CZ$|          4|\n",
            "+---------------+--------+-----------+\n",
            "only showing top 10 rows\n",
            "\n"
          ],
          "name": "stdout"
        }
      ]
    }
  ]
}